{
 "cells": [
  {
   "cell_type": "code",
   "execution_count": 13,
   "metadata": {},
   "outputs": [],
   "source": [
    "import torch\n",
    "from torch.utils.data import Dataset\n",
    "\n",
    "import torchaudio\n",
    "import torchaudio.transforms\n",
    "\n",
    "import sys, os\n",
    "\n",
    "from pprint import pprint\n",
    "\n",
    "from tqdm import tqdm\n",
    "\n",
    "import json\n",
    "\n",
    "import numpy as np\n",
    "\n",
    "import matplotlib.pylab as plt\n",
    "import seaborn as sns\n",
    "\n",
    "import librosa\n",
    "import librosa.display\n",
    "\n",
    "import pandas as pd\n",
    "\n",
    "from pathlib import Path\n",
    "\n",
    "import gc\n",
    "\n",
    "MANUAL_SEED = 69\n",
    "\n",
    "import torch.nn as nn\n",
    "import torch.nn.functional as F"
   ]
  },
  {
   "cell_type": "code",
   "execution_count": 14,
   "metadata": {},
   "outputs": [
    {
     "name": "stdout",
     "output_type": "stream",
     "text": [
      "Enabling notebook extension jupyter-js-widgets/extension...\n",
      "      - Validating: \u001b[32mOK\u001b[0m\n"
     ]
    }
   ],
   "source": [
    "!jupyter nbextension enable --py widgetsnbextension"
   ]
  },
  {
   "cell_type": "code",
   "execution_count": 15,
   "metadata": {},
   "outputs": [],
   "source": [
    "class FMADataset(Dataset):\n",
    "\n",
    "  def __init__(self, path, normalize_audio, audio_num_frames):\n",
    "    self.path = path\n",
    "    self.normalize_audio = normalize_audio\n",
    "    self.audio_num_frames = audio_num_frames\n",
    "    \n",
    "    self.data = self.load_raw_audio_data()\n",
    "\n",
    "  def __len__(self):\n",
    "    return len(self.data.index)\n",
    "\n",
    "  def __getitem__(self, idx):\n",
    "    return self.data.iloc[idx]\n",
    "  \n",
    "  def label_from_str_to_one_hot(self, label_str: str): \n",
    "  \n",
    "    if label_str == \"Pop\":\n",
    "      return torch.tensor([1, 0, 0, 0, 0, 0])\n",
    "    \n",
    "    if label_str == \"Hip-Hop\":\n",
    "      return torch.tensor([0, 1, 0, 0, 0, 0])\n",
    "    \n",
    "    if label_str == \"Electronic\":\n",
    "      return torch.tensor([0, 0, 1, 0, 0, 0])\n",
    "    \n",
    "    if label_str == \"Rock\":\n",
    "      return torch.tensor([0, 0, 0, 1, 0, 0])\n",
    "\n",
    "    if label_str == \"Folk\":\n",
    "      return torch.tensor([0, 0, 0, 0, 1, 0])\n",
    "\n",
    "    if label_str == \"Jazz\":\n",
    "      return torch.tensor([0, 0, 0, 0, 0, 1])\n",
    "  \n",
    "\n",
    "  def load_raw_audio_data(self):\n",
    "    \n",
    "    data_list = []\n",
    "    \n",
    "    num_audio_files_unable_to_open = 0\n",
    "\n",
    "    for path, subdirs, files in os.walk(self.path):\n",
    "      for name in tqdm(files, colour=\"magenta\"):\n",
    "          \n",
    "        file_audio_path = os.path.join(path, name)\n",
    "        \n",
    "        try:\n",
    "          waveform, sample_rate = torchaudio.load(\n",
    "            file_audio_path, normalize=self.normalize_audio,\n",
    "            num_frames=self.audio_num_frames\n",
    "          )\n",
    "          \n",
    "          label = file_audio_path.split(\"/\")[-2]\n",
    "          label_one_hot = self.label_from_str_to_one_hot(label)\n",
    "          \n",
    "          data_list.append(\n",
    "            {\n",
    "              \"waveform\": waveform, \n",
    "              \"og_sample_rate\": sample_rate,\n",
    "              \"label_one_hot\": label_one_hot,\n",
    "              \"label\": label,\n",
    "              \"path\": file_audio_path,\n",
    "              \"hop_length\": -1\n",
    "            }\n",
    "          )\n",
    "\n",
    "          \n",
    "        except:\n",
    "          # print(f\"[load_audio_data] error while loading {file_audio_path}\")\n",
    "          num_audio_files_unable_to_open += 1\n",
    "          continue\n",
    "    \n",
    "    return pd.DataFrame(data_list)"
   ]
  },
  {
   "cell_type": "code",
   "execution_count": 16,
   "metadata": {},
   "outputs": [],
   "source": [
    "DATASET_SIZE = \"small\"\n",
    "DATASET_NAME = f\"fma_{DATASET_SIZE}_organized_by_label_resampled_rechanneled\"\n",
    "DATASET_FOLDER = \"./data/audio\"\n",
    "# DATASET_FOLDER = \"/mnt/ramdisk\"\n",
    "\n",
    "dataset_path = f\"{DATASET_FOLDER}/{DATASET_NAME}\"\n",
    "\n",
    "NORMALIZE_AUDIO = True\n",
    "AUDIO_NUM_FRAMES = 238000"
   ]
  },
  {
   "cell_type": "code",
   "execution_count": 17,
   "metadata": {},
   "outputs": [
    {
     "name": "stderr",
     "output_type": "stream",
     "text": [
      "0it [00:00, ?it/s]\n",
      "100%|\u001b[35m██████████\u001b[0m| 499/499 [00:05<00:00, 95.80it/s] \n",
      "100%|\u001b[35m██████████\u001b[0m| 499/499 [00:05<00:00, 96.59it/s] \n",
      "100%|\u001b[35m██████████\u001b[0m| 499/499 [00:04<00:00, 100.91it/s]\n",
      "100%|\u001b[35m██████████\u001b[0m| 499/499 [00:05<00:00, 98.90it/s] \n",
      "100%|\u001b[35m██████████\u001b[0m| 499/499 [00:05<00:00, 98.80it/s] \n",
      "100%|\u001b[35m██████████\u001b[0m| 499/499 [00:05<00:00, 96.16it/s] \n"
     ]
    }
   ],
   "source": [
    "fma_dataset = FMADataset(\n",
    "  path=dataset_path, \n",
    "  normalize_audio=NORMALIZE_AUDIO, \n",
    "  audio_num_frames=AUDIO_NUM_FRAMES\n",
    ")"
   ]
  },
  {
   "cell_type": "code",
   "execution_count": 18,
   "metadata": {},
   "outputs": [],
   "source": [
    "TRAIN_PERCENTAGE = 0.7\n",
    "VAL_PERCENTAGE = 0.2\n",
    "# TEST_PERCENTAGE = 0.1\n",
    "\n",
    "full_size = len(fma_dataset)\n",
    "train_size = int(TRAIN_PERCENTAGE * len(fma_dataset))\n",
    "val_size = int(VAL_PERCENTAGE * len(fma_dataset))\n",
    "test_size = full_size - train_size - val_size"
   ]
  },
  {
   "cell_type": "code",
   "execution_count": 19,
   "metadata": {},
   "outputs": [],
   "source": [
    "generator=torch.Generator().manual_seed(MANUAL_SEED)\n",
    "\n",
    "fma_dataset_train, fma_dataset_val, fma_dataset_test = torch.utils.data.random_split(\n",
    "  fma_dataset, [train_size, val_size, test_size], generator\n",
    ")"
   ]
  },
  {
   "cell_type": "code",
   "execution_count": 20,
   "metadata": {},
   "outputs": [
    {
     "name": "stdout",
     "output_type": "stream",
     "text": [
      "2095\n",
      "598\n",
      "300\n"
     ]
    }
   ],
   "source": [
    "print(len(fma_dataset_train))\n",
    "print(len(fma_dataset_val))\n",
    "print(len(fma_dataset_test))"
   ]
  },
  {
   "cell_type": "code",
   "execution_count": 21,
   "metadata": {},
   "outputs": [],
   "source": [
    "def get_dataset_statistics(dataset):\n",
    "  class_counts = {\n",
    "    \"Electronic\": 0,\n",
    "    \"Pop\": 0,\n",
    "    \"Rock\": 0,\n",
    "    \"Jazz\": 0, \n",
    "    \"Hip-Hop\": 0,\n",
    "    \"Folk\": 0\n",
    "  }\n",
    "\n",
    "  for data_entry in dataset:\n",
    "    class_counts[data_entry[\"label\"]] += 1\n",
    "    \n",
    "  \n",
    "  return {\n",
    "    \"class_counts\": class_counts,\n",
    "    \"train_mean\": -1,\n",
    "    \"train_std\": -1\n",
    "  }"
   ]
  },
  {
   "cell_type": "code",
   "execution_count": 22,
   "metadata": {},
   "outputs": [],
   "source": [
    "train_statistics = get_dataset_statistics(fma_dataset_train)\n",
    "val_statistics = get_dataset_statistics(fma_dataset_val)\n",
    "test_statistics = get_dataset_statistics(fma_dataset_test)"
   ]
  },
  {
   "cell_type": "code",
   "execution_count": 23,
   "metadata": {},
   "outputs": [],
   "source": [
    "# print(\"train statistics: \")\n",
    "# pprint(train_statistics)\n",
    "\n",
    "# print(\"val statistics: \")\n",
    "# pprint(val_statistics)\n",
    "\n",
    "# print(\"test statistics: \")\n",
    "# pprint(test_statistics)"
   ]
  },
  {
   "cell_type": "code",
   "execution_count": null,
   "metadata": {},
   "outputs": [],
   "source": [
    "# \"Sample level\" paper (https://arxiv.org/pdf/1703.01789.pdf)\n",
    "# They take very small snippets of audios in order to classify them"
   ]
  },
  {
   "cell_type": "markdown",
   "metadata": {},
   "source": [
    "## Attempt 1\n",
    "\n",
    "First layers --> dimensionality reduction to roughly match dimensions of this paper https://arxiv.org/pdf/1703.01789.pdf\n",
    "\n",
    "Mid and final layers --> taken 1:1 from the paper linked above\n",
    "\n",
    "Batch norm placed BEFORE the activation function, as described in the og paper https://arxiv.org/abs/1502.03167 and explained by Bengio in his DL book https://www.deeplearningbook.org/contents/optimization.html in section 8.7.1"
   ]
  },
  {
   "cell_type": "code",
   "execution_count": 31,
   "metadata": {},
   "outputs": [],
   "source": [
    "class CNN_Attempt_1(nn.Module):\n",
    "  def __init__(self, dropout_p):\n",
    "    super().__init__()\n",
    "    \n",
    "    self.dropout_p = dropout_p\n",
    "    \n",
    "    # First layers, see cell above for full explanation \n",
    "    \n",
    "    self.conv1 = nn.Conv1d(\n",
    "      in_channels=1, out_channels=16, kernel_size=9, stride=9\n",
    "    )\n",
    "    \n",
    "    self.conv2 = nn.Conv1d(\n",
    "      in_channels=16, out_channels=32,kernel_size=9,stride=9\n",
    "    )\n",
    "    \n",
    "    # Mid and final layers, see cell above for full explanation\n",
    "    \n",
    "    self.conv3 = nn.Conv1d(\n",
    "      in_channels=32, out_channels=128,kernel_size=3,stride=3\n",
    "    ) \n",
    "    \n",
    "    self.conv4 = nn.Conv1d(\n",
    "      in_channels=128,out_channels=128,kernel_size=3,stride=1\n",
    "    )\n",
    "    self.pool4 = nn.MaxPool1d(\n",
    "      kernel_size=3, stride=3\n",
    "    )\n",
    "    \n",
    "    self.conv5 = nn.Conv1d(\n",
    "      in_channels=128,out_channels=128,kernel_size=3,stride=1\n",
    "    )\n",
    "    self.pool5 = nn.MaxPool1d(\n",
    "      kernel_size=3, stride=3\n",
    "    )    \n",
    "    \n",
    "    self.conv6 = nn.Conv1d(\n",
    "      in_channels=256,out_channels=256,kernel_size=3,stride=1\n",
    "    )\n",
    "    self.pool6 = nn.MaxPool1d(\n",
    "      kernel_size=3, stride=3\n",
    "    )\n",
    "    \n",
    "    self.conv7 = nn.Conv1d(\n",
    "      in_channels=256,out_channels=256,kernel_size=3,stride=1\n",
    "    )\n",
    "    self.pool7 = nn.MaxPool1d(\n",
    "      kernel_size=3, stride=3\n",
    "    )      \n",
    "    \n",
    "    self.conv8 = nn.Conv1d(\n",
    "      in_channels=256, out_channels=256, kernel_size=3, stride=1\n",
    "    )\n",
    "    self.pool8 = nn.MaxPool1d(\n",
    "      kernel_size=3,  stride=3\n",
    "    )      \n",
    "    \n",
    "    self.conv9 = nn.Conv1d(\n",
    "      in_channels=256, out_channels=256, kernel_size=3, stride=1\n",
    "    )\n",
    "    self.pool9 = nn.MaxPool1d(\n",
    "      kernel_size=3,  stride=3\n",
    "    )      \n",
    "    \n",
    "    self.conv10 = nn.Conv1d(\n",
    "      in_channels=256, out_channels=256, kernel_size=3, stride=1\n",
    "    )\n",
    "    self.pool10 = nn.MaxPool1d(\n",
    "      kernel_size=3,  stride=3\n",
    "    )      \n",
    "    \n",
    "    self.conv11 = nn.Conv1d(\n",
    "      in_channels=256, out_channels=256, kernel_size=3, stride=1\n",
    "    )\n",
    "    self.pool11 = nn.MaxPool1d(\n",
    "      kernel_size=3,  stride=3\n",
    "    )      \n",
    "\n",
    "    self.conv12 = nn.Conv1d(\n",
    "      in_channels=512, out_channels=512, kernel_size=3, stride=1\n",
    "    )\n",
    "    self.pool12 = nn.MaxPool1d(\n",
    "      kernel_size=3,  stride=3\n",
    "    )      \n",
    "\n",
    "    self.conv13 = nn.Conv1d(\n",
    "      in_channels=512, out_channels=512, kernel_size=3, stride=1\n",
    "    )\n",
    "    \n",
    "    self.dropout = nn.Dropout(p=self.dropout_p)\n",
    "    \n",
    "    self.relu = nn.ReLU()\n",
    "    self.sigmoid = nn.Sigmoid()\n",
    "    \n",
    "    self.bn_16 = nn.BatchNorm2d(num_features=16)       \n",
    "    self.bn_32 = nn.BatchNorm2d(num_features=32)       \n",
    "    self.bn_128 = nn.BatchNorm2d(num_features=128)       \n",
    "    self.bn_256 = nn.BatchNorm2d(num_features=256)       \n",
    "    \n",
    "\n",
    "  def forward(self, x):\n",
    "    \n",
    "    # First layers, see cell above for full explanation \n",
    "    \n",
    "    x = self.conv1(x)\n",
    "    x = self.bn_16(x)\n",
    "    x = self.relu(x)\n",
    "    \n",
    "    x = self.conv2(x)\n",
    "    x = self.bn_32(x)\n",
    "    x = self.relu(x)\n",
    "    \n",
    "    # Mid and final layers, see cell above for full explanation \n",
    "    \n",
    "    x = self.conv3(x)\n",
    "    x = self.batchnorm(x)\n",
    "    x = self.relu(x)\n",
    "\n",
    "    x = self.conv4(x)\n",
    "    x = self.pool4(x)\n",
    "    x = self.bn_128(x)\n",
    "    x = self.relu(x)"
   ]
  },
  {
   "cell_type": "code",
   "execution_count": 32,
   "metadata": {},
   "outputs": [],
   "source": [
    "cnn_attempt_1 = CNN_Attempt_1(dropout_p=0.1)\n",
    "\n",
    "x = torch.rand((1, 238000))"
   ]
  },
  {
   "cell_type": "code",
   "execution_count": null,
   "metadata": {},
   "outputs": [],
   "source": []
  },
  {
   "cell_type": "code",
   "execution_count": null,
   "metadata": {},
   "outputs": [],
   "source": []
  },
  {
   "cell_type": "code",
   "execution_count": null,
   "metadata": {},
   "outputs": [],
   "source": []
  },
  {
   "cell_type": "code",
   "execution_count": null,
   "metadata": {},
   "outputs": [],
   "source": [
    "def calculate_output_length(length_in, kernel_size, stride=1, padding=0, dilation=1):\n",
    "  return (length_in + 2 * padding - dilation * (kernel_size - 1) - 1) // stride + 1"
   ]
  },
  {
   "cell_type": "code",
   "execution_count": null,
   "metadata": {},
   "outputs": [],
   "source": [
    "conv1_out = calculate_output_length(238000, 9, 6)\n",
    "conv1_out"
   ]
  },
  {
   "cell_type": "code",
   "execution_count": null,
   "metadata": {},
   "outputs": [],
   "source": [
    "calculate_output_length(conv1_out, 6, 2)"
   ]
  }
 ],
 "metadata": {
  "kernelspec": {
   "display_name": "Python 3.10.4 64-bit",
   "language": "python",
   "name": "python3"
  },
  "language_info": {
   "codemirror_mode": {
    "name": "ipython",
    "version": 3
   },
   "file_extension": ".py",
   "mimetype": "text/x-python",
   "name": "python",
   "nbconvert_exporter": "python",
   "pygments_lexer": "ipython3",
   "version": "3.10.4"
  },
  "orig_nbformat": 4,
  "vscode": {
   "interpreter": {
    "hash": "916dbcbb3f70747c44a77c7bcd40155683ae19c65e1c03b4aa3499c5328201f1"
   }
  }
 },
 "nbformat": 4,
 "nbformat_minor": 2
}
