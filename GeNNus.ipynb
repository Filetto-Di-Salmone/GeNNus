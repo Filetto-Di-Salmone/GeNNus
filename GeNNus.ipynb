{
 "cells": [
  {
   "cell_type": "code",
   "execution_count": 1,
   "metadata": {},
   "outputs": [],
   "source": [
    "import torch\n",
    "from torch.utils.data import Dataset\n",
    "\n",
    "import torchaudio\n",
    "import torchaudio.transforms\n",
    "\n",
    "import sys, os\n",
    "\n",
    "from pprint import pprint\n",
    "\n",
    "from tqdm import tqdm\n",
    "\n",
    "import json\n",
    "\n",
    "import numpy as np\n",
    "\n",
    "import matplotlib.pylab as plt\n",
    "import seaborn as sns\n",
    "\n",
    "import librosa\n",
    "import librosa.display\n",
    "\n",
    "import pandas as pd\n",
    "\n",
    "from pathlib import Path\n",
    "\n",
    "import gc\n",
    "\n",
    "MANUAL_SEED = 69\n",
    "\n",
    "import torch.nn as nn\n",
    "import torch.nn.functional as F\n",
    "\n",
    "import torch.optim as optim\n"
   ]
  },
  {
   "cell_type": "code",
   "execution_count": 2,
   "metadata": {},
   "outputs": [
    {
     "name": "stdout",
     "output_type": "stream",
     "text": [
      "Enabling notebook extension jupyter-js-widgets/extension...\n",
      "      - Validating: \u001b[32mOK\u001b[0m\n"
     ]
    }
   ],
   "source": [
    "!jupyter nbextension enable --py widgetsnbextension"
   ]
  },
  {
   "cell_type": "code",
   "execution_count": 106,
   "metadata": {},
   "outputs": [],
   "source": [
    "class FMADataset(Dataset):\n",
    "\n",
    "  def __init__(self, path, normalize_audio, audio_num_frames):\n",
    "    self.path = path\n",
    "    self.normalize_audio = normalize_audio\n",
    "    self.audio_num_frames = audio_num_frames\n",
    "    \n",
    "    self.data = self.load_raw_audio_data()\n",
    "\n",
    "  def __len__(self):\n",
    "    return len(self.data)\n",
    "\n",
    "  def __getitem__(self, idx):\n",
    "    return self.data[idx]\n",
    "  \n",
    "  def label_from_str_to_one_hot(self, label_str: str): \n",
    "  \n",
    "    if label_str == \"Pop\":\n",
    "      return torch.tensor([1, 0, 0, 0, 0, 0]).float()\n",
    "    \n",
    "    if label_str == \"Hip-Hop\":\n",
    "      return torch.tensor([0, 1, 0, 0, 0, 0]).float()\n",
    "    \n",
    "    if label_str == \"Electronic\":\n",
    "      return torch.tensor([0, 0, 1, 0, 0, 0]).float()\n",
    "    \n",
    "    if label_str == \"Rock\":\n",
    "      return torch.tensor([0, 0, 0, 1, 0, 0]).float()\n",
    "\n",
    "    if label_str == \"Folk\":\n",
    "      return torch.tensor([0, 0, 0, 0, 1, 0]).float()\n",
    "\n",
    "    if label_str == \"Jazz\":\n",
    "      return torch.tensor([0, 0, 0, 0, 0, 1]).float()\n",
    "  \n",
    "\n",
    "  def load_raw_audio_data(self):\n",
    "    \n",
    "    data_list = []\n",
    "    \n",
    "    num_audio_files_unable_to_open = 0\n",
    "\n",
    "    for path, subdirs, files in os.walk(self.path):\n",
    "      for name in tqdm(files, colour=\"magenta\"):\n",
    "          \n",
    "        file_audio_path = os.path.join(path, name)\n",
    "        # print(file_audio_path)\n",
    "        \n",
    "        try:\n",
    "          waveform, sample_rate = torchaudio.load(\n",
    "            file_audio_path, normalize=self.normalize_audio,\n",
    "            num_frames=self.audio_num_frames\n",
    "          )\n",
    "          \n",
    "          label = file_audio_path.split(\"/\")[-2]\n",
    "          label_one_hot = self.label_from_str_to_one_hot(label)\n",
    "          \n",
    "          data_list.append(\n",
    "            {\n",
    "              \"waveform\": waveform, \n",
    "              \"og_sample_rate\": sample_rate,\n",
    "              \"label_one_hot\": label_one_hot,\n",
    "              \"label\": label,\n",
    "              \"path\": file_audio_path,\n",
    "              \"hop_length\": -1\n",
    "            }\n",
    "          )\n",
    "          \n",
    "        except Exception as e:\n",
    "          print(e)\n",
    "          # print(f\"[load_audio_data] error while loading {file_audio_path}\")\n",
    "          num_audio_files_unable_to_open += 1\n",
    "          continue\n",
    "    \n",
    "    return data_list"
   ]
  },
  {
   "cell_type": "code",
   "execution_count": 132,
   "metadata": {},
   "outputs": [],
   "source": [
    "DATASET_SIZE = \"small\"\n",
    "DATASET_NAME = f\"fma_{DATASET_SIZE}_organized_by_label_resampled_rechanneled\"\n",
    "DATASET_FOLDER = \"./data/audio\"\n",
    "# DATASET_FOLDER = \"/mnt/ramdisk\"\n",
    "\n",
    "dataset_path = f\"{DATASET_FOLDER}/{DATASET_NAME}\"\n",
    "\n",
    "NORMALIZE_AUDIO = True\n",
    "AUDIO_NUM_FRAMES = 238000"
   ]
  },
  {
   "cell_type": "code",
   "execution_count": 133,
   "metadata": {},
   "outputs": [
    {
     "name": "stderr",
     "output_type": "stream",
     "text": [
      "0it [00:00, ?it/s]\n",
      " 23%|\u001b[35m██▎       \u001b[0m| 117/499 [00:01<00:03, 115.76it/s]"
     ]
    },
    {
     "name": "stdout",
     "output_type": "stream",
     "text": [
      "Failed to open the input \"./data/audio/fma_small_organized_by_label_resampled_rechanneled/Pop/023431.mp3\" (Invalid argument).\n"
     ]
    },
    {
     "name": "stderr",
     "output_type": "stream",
     "text": [
      "100%|\u001b[35m██████████\u001b[0m| 499/499 [00:04<00:00, 112.61it/s]\n",
      "100%|\u001b[35m██████████\u001b[0m| 499/499 [00:04<00:00, 107.75it/s]\n",
      "100%|\u001b[35m██████████\u001b[0m| 499/499 [00:04<00:00, 111.73it/s]\n",
      "100%|\u001b[35m██████████\u001b[0m| 499/499 [00:04<00:00, 109.19it/s]\n",
      "100%|\u001b[35m██████████\u001b[0m| 499/499 [00:04<00:00, 108.84it/s]\n",
      "100%|\u001b[35m██████████\u001b[0m| 499/499 [00:04<00:00, 110.46it/s]\n"
     ]
    }
   ],
   "source": [
    "fma_dataset = FMADataset(\n",
    "  path=dataset_path, \n",
    "  normalize_audio=NORMALIZE_AUDIO, \n",
    "  audio_num_frames=AUDIO_NUM_FRAMES\n",
    ")"
   ]
  },
  {
   "cell_type": "code",
   "execution_count": 134,
   "metadata": {},
   "outputs": [
    {
     "data": {
      "text/plain": [
       "2993"
      ]
     },
     "execution_count": 134,
     "metadata": {},
     "output_type": "execute_result"
    }
   ],
   "source": [
    "len(fma_dataset)"
   ]
  },
  {
   "cell_type": "code",
   "execution_count": 135,
   "metadata": {},
   "outputs": [],
   "source": [
    "TRAIN_PERCENTAGE = 0.7\n",
    "VAL_PERCENTAGE = 0.2\n",
    "# TEST_PERCENTAGE = 0.1\n",
    "\n",
    "full_size = len(fma_dataset)\n",
    "train_size = int(TRAIN_PERCENTAGE * len(fma_dataset))\n",
    "val_size = int(VAL_PERCENTAGE * len(fma_dataset))\n",
    "test_size = full_size - train_size - val_size"
   ]
  },
  {
   "cell_type": "code",
   "execution_count": 136,
   "metadata": {},
   "outputs": [],
   "source": [
    "generator=torch.Generator().manual_seed(MANUAL_SEED)\n",
    "\n",
    "fma_dataset_train, fma_dataset_val, fma_dataset_test = torch.utils.data.random_split(\n",
    "  fma_dataset, [train_size, val_size, test_size], generator\n",
    ")"
   ]
  },
  {
   "cell_type": "code",
   "execution_count": 137,
   "metadata": {},
   "outputs": [
    {
     "name": "stdout",
     "output_type": "stream",
     "text": [
      "2095\n",
      "598\n",
      "300\n"
     ]
    }
   ],
   "source": [
    "print(len(fma_dataset_train))\n",
    "print(len(fma_dataset_val))\n",
    "print(len(fma_dataset_test))"
   ]
  },
  {
   "cell_type": "code",
   "execution_count": 138,
   "metadata": {},
   "outputs": [],
   "source": [
    "def get_dataset_statistics(dataset):\n",
    "  class_counts = {\n",
    "    \"Electronic\": 0,\n",
    "    \"Pop\": 0,\n",
    "    \"Rock\": 0,\n",
    "    \"Jazz\": 0, \n",
    "    \"Hip-Hop\": 0,\n",
    "    \"Folk\": 0\n",
    "  }\n",
    "\n",
    "  for data_entry in dataset:\n",
    "    class_counts[data_entry[\"label\"]] += 1\n",
    "    \n",
    "  \n",
    "  return {\n",
    "    \"class_counts\": class_counts,\n",
    "    \"train_mean\": -1,\n",
    "    \"train_std\": -1\n",
    "  }"
   ]
  },
  {
   "cell_type": "code",
   "execution_count": 139,
   "metadata": {},
   "outputs": [],
   "source": [
    "train_statistics = get_dataset_statistics(fma_dataset_train)\n",
    "val_statistics = get_dataset_statistics(fma_dataset_val)\n",
    "test_statistics = get_dataset_statistics(fma_dataset_test)"
   ]
  },
  {
   "cell_type": "code",
   "execution_count": 140,
   "metadata": {},
   "outputs": [],
   "source": [
    "# print(\"train statistics: \")\n",
    "# pprint(train_statistics)\n",
    "\n",
    "# print(\"val statistics: \")\n",
    "# pprint(val_statistics)\n",
    "\n",
    "# print(\"test statistics: \")\n",
    "# pprint(test_statistics)"
   ]
  },
  {
   "cell_type": "code",
   "execution_count": 141,
   "metadata": {},
   "outputs": [],
   "source": [
    "BATCH_SIZE = 4\n",
    "NUM_WORKERS = 16"
   ]
  },
  {
   "cell_type": "code",
   "execution_count": 142,
   "metadata": {},
   "outputs": [],
   "source": [
    "fma_dataloader_train = torch.utils.data.DataLoader(\n",
    "  fma_dataset_train, batch_size=BATCH_SIZE, num_workers=NUM_WORKERS, \n",
    "  generator=generator\n",
    ")\n",
    "fma_dataloader_val = torch.utils.data.DataLoader(\n",
    "  fma_dataset_val, batch_size=BATCH_SIZE, num_workers=NUM_WORKERS, \n",
    "  generator=generator\n",
    ")\n",
    "fma_dataloader_test = torch.utils.data.DataLoader(\n",
    "  fma_dataset_test, batch_size=BATCH_SIZE, num_workers=NUM_WORKERS, \n",
    "  generator=generator\n",
    ")"
   ]
  },
  {
   "cell_type": "code",
   "execution_count": 143,
   "metadata": {},
   "outputs": [],
   "source": [
    "def calculate_output_length(length_in, kernel_size, stride=1, padding=0, dilation=1):\n",
    "  return (length_in + 2 * padding - dilation * (kernel_size - 1) - 1) // stride + 1\n",
    "\n"
   ]
  },
  {
   "cell_type": "code",
   "execution_count": 144,
   "metadata": {},
   "outputs": [],
   "source": [
    "def count_num_trainable_parameters(model):\n",
    "  return sum(p.numel() for p in model.parameters() if p.requires_grad)\n"
   ]
  },
  {
   "cell_type": "markdown",
   "metadata": {},
   "source": [
    "## Attempt 1\n",
    "\n",
    "First layers --> dimensionality reduction to roughly match dimensions of this paper https://arxiv.org/pdf/1703.01789.pdf\n",
    "\n",
    "Mid and final layers --> taken 1:1 from the paper linked above\n",
    "\n",
    "Batch norm placed BEFORE the activation function, as described in the og paper https://arxiv.org/abs/1502.03167 and explained by Bengio in his DL book https://www.deeplearningbook.org/contents/optimization.html in section 8.7.1\n",
    "\n",
    "Dropout placed according to the og paper: https://arxiv.org/pdf/1207.0580.pdf"
   ]
  },
  {
   "cell_type": "code",
   "execution_count": 145,
   "metadata": {},
   "outputs": [],
   "source": [
    "class CNN_Attempt_1(nn.Module):\n",
    "  def __init__(self, dropout_p):\n",
    "    super().__init__()\n",
    "    \n",
    "    self.dropout_p = dropout_p\n",
    "    \n",
    "    # First layers, see cell above for full explanation \n",
    "    \n",
    "    self.conv1 = nn.Conv1d(\n",
    "      in_channels=1, out_channels=128, kernel_size=6, stride=4\n",
    "    )\n",
    "    \n",
    "    # Mid and final layers, see cell above for full explanation\n",
    "    \n",
    "    self.conv3 = nn.Conv1d(\n",
    "      in_channels=128, out_channels=128, kernel_size=3, stride=3\n",
    "    ) \n",
    "    \n",
    "    self.conv4 = nn.Conv1d(\n",
    "      in_channels=128, out_channels=128, kernel_size=3, stride=1\n",
    "    )\n",
    "    self.pool4 = nn.MaxPool1d(kernel_size=3, stride=3)\n",
    "    \n",
    "    self.conv5 = nn.Conv1d(\n",
    "      in_channels=128, out_channels=128, kernel_size=3, stride=1\n",
    "    )\n",
    "    self.pool5 = nn.MaxPool1d(kernel_size=3, stride=3)    \n",
    "    \n",
    "    self.conv6 = nn.Conv1d(\n",
    "      in_channels=128, out_channels=256, kernel_size=3, stride=1\n",
    "    )\n",
    "    self.pool6 = nn.MaxPool1d(kernel_size=3, stride=3)\n",
    "    \n",
    "    self.conv7 = nn.Conv1d(\n",
    "      in_channels=256, out_channels=256, kernel_size=3, stride=1\n",
    "    )\n",
    "    self.pool7 = nn.MaxPool1d(kernel_size=3, stride=3)      \n",
    "    \n",
    "    self.conv8 = nn.Conv1d(\n",
    "      in_channels=256, out_channels=256, kernel_size=3, stride=1, padding=1\n",
    "    )\n",
    "    self.pool8 = nn.MaxPool1d(kernel_size=3,  stride=3)      \n",
    "    \n",
    "    self.conv9 = nn.Conv1d(\n",
    "      in_channels=256, out_channels=256, kernel_size=3, stride=1, padding=1\n",
    "    )\n",
    "    self.pool9 = nn.MaxPool1d(kernel_size=3,  stride=3)      \n",
    "    \n",
    "    self.conv10 = nn.Conv1d(\n",
    "      in_channels=256, out_channels=256, kernel_size=3, stride=1, padding=1\n",
    "    )\n",
    "    self.pool10 = nn.MaxPool1d(kernel_size=3,  stride=3)      \n",
    "    \n",
    "    self.conv11 = nn.Conv1d(\n",
    "      in_channels=256, out_channels=256, kernel_size=3, stride=1, padding=1\n",
    "    )\n",
    "    self.pool11 = nn.MaxPool1d(kernel_size=3,  stride=3)      \n",
    "\n",
    "    self.conv12 = nn.Conv1d(\n",
    "      in_channels=256, out_channels=512, kernel_size=3, stride=1, padding=1\n",
    "    )\n",
    "    self.pool12 = nn.MaxPool1d(kernel_size=3,  stride=3)      \n",
    "\n",
    "    self.conv13 = nn.Conv1d(\n",
    "      in_channels=512, out_channels=512, kernel_size=1, stride=1\n",
    "    )\n",
    "    \n",
    "    # Classification layer\n",
    "    \n",
    "    # Using a conv output layer rather than a fully connected one\n",
    "    self.conv14 = nn.Conv1d(\n",
    "      in_channels=512, out_channels=6, kernel_size=1\n",
    "    )\n",
    "    \n",
    "    self.dropout = nn.Dropout(p=self.dropout_p)\n",
    "    \n",
    "    self.relu = nn.ReLU()\n",
    "    self.sigmoid = nn.Sigmoid()\n",
    "    \n",
    "    self.bn_16 = nn.BatchNorm1d(num_features=16)       \n",
    "    self.bn_32 = nn.BatchNorm1d(num_features=32)       \n",
    "    self.bn_128 = nn.BatchNorm1d(num_features=128)       \n",
    "    self.bn_256 = nn.BatchNorm1d(num_features=256)       \n",
    "    self.bn_512 = nn.BatchNorm1d(num_features=512)       \n",
    "    \n",
    "\n",
    "  def forward(self, x):\n",
    "    \n",
    "    # First layers, see cell above for full explanation \n",
    "    \n",
    "    x = self.conv1(x)\n",
    "    x = self.bn_128(x)\n",
    "    x = self.relu(x)\n",
    "    \n",
    "    # print(\"-2. x.shape\", x.shape)\n",
    "    \n",
    "    # Mid and final layers, see cell above for full explanation \n",
    "    \n",
    "    x = self.conv3(x)\n",
    "    x = self.bn_128(x)\n",
    "    x = self.relu(x)\n",
    "    \n",
    "    # print(\"3. x.shape\", x.shape)\n",
    "\n",
    "    x = self.conv4(x)\n",
    "    x = self.pool4(x)\n",
    "    x = self.bn_128(x)\n",
    "    x = self.relu(x)\n",
    "    \n",
    "    # print(\"4. x.shape\", x.shape)\n",
    "    \n",
    "    x = self.conv5(x)\n",
    "    x = self.pool5(x)\n",
    "    x = self.bn_128(x)\n",
    "    x = self.relu(x)\n",
    "    \n",
    "    # print(\"5. x.shape\", x.shape)\n",
    "\n",
    "    x = self.conv6(x)\n",
    "    x = self.pool6(x)\n",
    "    x = self.bn_256(x)\n",
    "    x = self.relu(x)\n",
    "    \n",
    "    # print(\"6. x.shape\", x.shape)\n",
    "    \n",
    "    x = self.conv7(x)\n",
    "    x = self.pool7(x)\n",
    "    x = self.bn_256(x)\n",
    "    x = self.relu(x)\n",
    "    \n",
    "    # print(\"7. x.shape\", x.shape)\n",
    "    \n",
    "    x = self.conv8(x)\n",
    "    # print(\"8_conv. x.shape\", x.shape)\n",
    "    x = self.pool8(x)\n",
    "    # print(\"7_pool. x.shape\", x.shape)\n",
    "    x = self.bn_256(x)\n",
    "    x = self.relu(x)\n",
    "  \n",
    "    x = self.conv9(x)\n",
    "    # print(\"9_conv. x.shape\", x.shape)\n",
    "    x = self.pool9(x)\n",
    "    # print(\"8_pool. x.shape\", x.shape)\n",
    "    x = self.bn_256(x)\n",
    "    x = self.relu(x)\n",
    "    \n",
    "    \n",
    "    x = self.conv10(x)\n",
    "    # print(\"10_conv. x.shape: \", x.shape)\n",
    "    x = self.pool10(x)\n",
    "    # print(\"9_pool. x.shape: \", x.shape)\n",
    "    x = self.bn_256(x)\n",
    "    x = self.relu(x)\n",
    "    \n",
    "    x = self.conv11(x)\n",
    "    # print(\"11_conv. x.shape: \", x.shape)\n",
    "    x = self.pool11(x)\n",
    "    # print(\"11_pool. x.shape: \", x.shape)\n",
    "    x = self.bn_256(x)\n",
    "    x = self.relu(x)\n",
    "    \n",
    "    x = self.conv12(x)\n",
    "    # print(\"12_conv. x.shape: \", x.shape)\n",
    "    x = self.pool12(x)\n",
    "    # print(\"11_pool. x.shape: \", x.shape)\n",
    "    x = self.bn_512(x)\n",
    "    x = self.relu(x)\n",
    "    \n",
    "    x = self.conv13(x)\n",
    "    # print(\"13_conv. x.shape: \", x.shape)\n",
    "    x = self.bn_512(x)\n",
    "    x = self.relu(x)\n",
    "    x = self.dropout(x)\n",
    "    \n",
    "    # Classification layer\n",
    "    x = self.conv14(x)\n",
    "    x = self.sigmoid(x)\n",
    "    \n",
    "    return x"
   ]
  },
  {
   "cell_type": "code",
   "execution_count": 146,
   "metadata": {},
   "outputs": [],
   "source": [
    "cnn_attempt_1 = CNN_Attempt_1(dropout_p=0.5)\n",
    "\n",
    "x = torch.rand((16, 1, 238000))\n",
    "\n",
    "x_out = cnn_attempt_1(x)"
   ]
  },
  {
   "cell_type": "code",
   "execution_count": 147,
   "metadata": {},
   "outputs": [
    {
     "data": {
      "text/plain": [
       "1892966"
      ]
     },
     "execution_count": 147,
     "metadata": {},
     "output_type": "execute_result"
    }
   ],
   "source": [
    "count_num_trainable_parameters(cnn_attempt_1)"
   ]
  },
  {
   "cell_type": "code",
   "execution_count": 148,
   "metadata": {},
   "outputs": [],
   "source": [
    "criterion = nn.CrossEntropyLoss()"
   ]
  },
  {
   "cell_type": "code",
   "execution_count": 149,
   "metadata": {},
   "outputs": [],
   "source": [
    "LR = 0.001\n",
    "MOMENTUM = 0.9\n",
    "\n",
    "optimizer = optim.SGD(cnn_attempt_1.parameters(), lr=LR, momentum=MOMENTUM)"
   ]
  },
  {
   "cell_type": "code",
   "execution_count": 150,
   "metadata": {},
   "outputs": [],
   "source": [
    "NUM_EPOCHS = 20"
   ]
  },
  {
   "cell_type": "code",
   "execution_count": 151,
   "metadata": {},
   "outputs": [],
   "source": [
    "model = cnn_attempt_1"
   ]
  },
  {
   "cell_type": "code",
   "execution_count": 152,
   "metadata": {},
   "outputs": [
    {
     "name": "stdout",
     "output_type": "stream",
     "text": [
      "batch:  0\n",
      "inputs.shape:  torch.Size([4, 1, 238000])\n",
      "batch:  1\n",
      "inputs.shape:  torch.Size([4, 1, 238000])\n",
      "batch:  2\n",
      "inputs.shape:  torch.Size([4, 1, 238000])\n"
     ]
    },
    {
     "ename": "RuntimeError",
     "evalue": "Caught RuntimeError in DataLoader worker process 3.\nOriginal Traceback (most recent call last):\n  File \"/home/dansolombrino/.local/lib/python3.10/site-packages/torch/utils/data/_utils/worker.py\", line 302, in _worker_loop\n    data = fetcher.fetch(index)\n  File \"/home/dansolombrino/.local/lib/python3.10/site-packages/torch/utils/data/_utils/fetch.py\", line 52, in fetch\n    return self.collate_fn(data)\n  File \"/home/dansolombrino/.local/lib/python3.10/site-packages/torch/utils/data/_utils/collate.py\", line 160, in default_collate\n    return elem_type({key: default_collate([d[key] for d in batch]) for key in elem})\n  File \"/home/dansolombrino/.local/lib/python3.10/site-packages/torch/utils/data/_utils/collate.py\", line 160, in <dictcomp>\n    return elem_type({key: default_collate([d[key] for d in batch]) for key in elem})\n  File \"/home/dansolombrino/.local/lib/python3.10/site-packages/torch/utils/data/_utils/collate.py\", line 140, in default_collate\n    out = elem.new(storage).resize_(len(batch), *list(elem.size()))\nRuntimeError: Trying to resize storage that is not resizable\n",
     "output_type": "error",
     "traceback": [
      "\u001b[0;31m---------------------------------------------------------------------------\u001b[0m",
      "\u001b[0;31mRuntimeError\u001b[0m                              Traceback (most recent call last)",
      "\u001b[1;32m/home/dansolombrino/GitHub/FDS/GeNNus/GeNNus.ipynb Cell 25\u001b[0m in \u001b[0;36m<cell line: 1>\u001b[0;34m()\u001b[0m\n\u001b[1;32m      <a href='vscode-notebook-cell:/home/dansolombrino/GitHub/FDS/GeNNus/GeNNus.ipynb#X42sZmlsZQ%3D%3D?line=0'>1</a>\u001b[0m \u001b[39mfor\u001b[39;00m epoch \u001b[39min\u001b[39;00m \u001b[39mrange\u001b[39m(NUM_EPOCHS):  \u001b[39m# loop over the dataset multiple times\u001b[39;00m\n\u001b[1;32m      <a href='vscode-notebook-cell:/home/dansolombrino/GitHub/FDS/GeNNus/GeNNus.ipynb#X42sZmlsZQ%3D%3D?line=2'>3</a>\u001b[0m   running_loss \u001b[39m=\u001b[39m \u001b[39m0.0\u001b[39m\n\u001b[0;32m----> <a href='vscode-notebook-cell:/home/dansolombrino/GitHub/FDS/GeNNus/GeNNus.ipynb#X42sZmlsZQ%3D%3D?line=4'>5</a>\u001b[0m   \u001b[39mfor\u001b[39;00m i, batch \u001b[39min\u001b[39;00m \u001b[39menumerate\u001b[39m(fma_dataloader_train):\n\u001b[1;32m      <a href='vscode-notebook-cell:/home/dansolombrino/GitHub/FDS/GeNNus/GeNNus.ipynb#X42sZmlsZQ%3D%3D?line=6'>7</a>\u001b[0m     \u001b[39mprint\u001b[39m(\u001b[39m\"\u001b[39m\u001b[39mbatch: \u001b[39m\u001b[39m\"\u001b[39m, i)\n\u001b[1;32m      <a href='vscode-notebook-cell:/home/dansolombrino/GitHub/FDS/GeNNus/GeNNus.ipynb#X42sZmlsZQ%3D%3D?line=7'>8</a>\u001b[0m     inputs \u001b[39m=\u001b[39m batch[\u001b[39m\"\u001b[39m\u001b[39mwaveform\u001b[39m\u001b[39m\"\u001b[39m]\n",
      "File \u001b[0;32m~/.local/lib/python3.10/site-packages/torch/utils/data/dataloader.py:652\u001b[0m, in \u001b[0;36m_BaseDataLoaderIter.__next__\u001b[0;34m(self)\u001b[0m\n\u001b[1;32m    649\u001b[0m \u001b[39mif\u001b[39;00m \u001b[39mself\u001b[39m\u001b[39m.\u001b[39m_sampler_iter \u001b[39mis\u001b[39;00m \u001b[39mNone\u001b[39;00m:\n\u001b[1;32m    650\u001b[0m     \u001b[39m# TODO(https://github.com/pytorch/pytorch/issues/76750)\u001b[39;00m\n\u001b[1;32m    651\u001b[0m     \u001b[39mself\u001b[39m\u001b[39m.\u001b[39m_reset()  \u001b[39m# type: ignore[call-arg]\u001b[39;00m\n\u001b[0;32m--> 652\u001b[0m data \u001b[39m=\u001b[39m \u001b[39mself\u001b[39;49m\u001b[39m.\u001b[39;49m_next_data()\n\u001b[1;32m    653\u001b[0m \u001b[39mself\u001b[39m\u001b[39m.\u001b[39m_num_yielded \u001b[39m+\u001b[39m\u001b[39m=\u001b[39m \u001b[39m1\u001b[39m\n\u001b[1;32m    654\u001b[0m \u001b[39mif\u001b[39;00m \u001b[39mself\u001b[39m\u001b[39m.\u001b[39m_dataset_kind \u001b[39m==\u001b[39m _DatasetKind\u001b[39m.\u001b[39mIterable \u001b[39mand\u001b[39;00m \\\n\u001b[1;32m    655\u001b[0m         \u001b[39mself\u001b[39m\u001b[39m.\u001b[39m_IterableDataset_len_called \u001b[39mis\u001b[39;00m \u001b[39mnot\u001b[39;00m \u001b[39mNone\u001b[39;00m \u001b[39mand\u001b[39;00m \\\n\u001b[1;32m    656\u001b[0m         \u001b[39mself\u001b[39m\u001b[39m.\u001b[39m_num_yielded \u001b[39m>\u001b[39m \u001b[39mself\u001b[39m\u001b[39m.\u001b[39m_IterableDataset_len_called:\n",
      "File \u001b[0;32m~/.local/lib/python3.10/site-packages/torch/utils/data/dataloader.py:1347\u001b[0m, in \u001b[0;36m_MultiProcessingDataLoaderIter._next_data\u001b[0;34m(self)\u001b[0m\n\u001b[1;32m   1345\u001b[0m \u001b[39melse\u001b[39;00m:\n\u001b[1;32m   1346\u001b[0m     \u001b[39mdel\u001b[39;00m \u001b[39mself\u001b[39m\u001b[39m.\u001b[39m_task_info[idx]\n\u001b[0;32m-> 1347\u001b[0m     \u001b[39mreturn\u001b[39;00m \u001b[39mself\u001b[39;49m\u001b[39m.\u001b[39;49m_process_data(data)\n",
      "File \u001b[0;32m~/.local/lib/python3.10/site-packages/torch/utils/data/dataloader.py:1373\u001b[0m, in \u001b[0;36m_MultiProcessingDataLoaderIter._process_data\u001b[0;34m(self, data)\u001b[0m\n\u001b[1;32m   1371\u001b[0m \u001b[39mself\u001b[39m\u001b[39m.\u001b[39m_try_put_index()\n\u001b[1;32m   1372\u001b[0m \u001b[39mif\u001b[39;00m \u001b[39misinstance\u001b[39m(data, ExceptionWrapper):\n\u001b[0;32m-> 1373\u001b[0m     data\u001b[39m.\u001b[39;49mreraise()\n\u001b[1;32m   1374\u001b[0m \u001b[39mreturn\u001b[39;00m data\n",
      "File \u001b[0;32m~/.local/lib/python3.10/site-packages/torch/_utils.py:461\u001b[0m, in \u001b[0;36mExceptionWrapper.reraise\u001b[0;34m(self)\u001b[0m\n\u001b[1;32m    457\u001b[0m \u001b[39mexcept\u001b[39;00m \u001b[39mTypeError\u001b[39;00m:\n\u001b[1;32m    458\u001b[0m     \u001b[39m# If the exception takes multiple arguments, don't try to\u001b[39;00m\n\u001b[1;32m    459\u001b[0m     \u001b[39m# instantiate since we don't know how to\u001b[39;00m\n\u001b[1;32m    460\u001b[0m     \u001b[39mraise\u001b[39;00m \u001b[39mRuntimeError\u001b[39;00m(msg) \u001b[39mfrom\u001b[39;00m \u001b[39mNone\u001b[39m\n\u001b[0;32m--> 461\u001b[0m \u001b[39mraise\u001b[39;00m exception\n",
      "\u001b[0;31mRuntimeError\u001b[0m: Caught RuntimeError in DataLoader worker process 3.\nOriginal Traceback (most recent call last):\n  File \"/home/dansolombrino/.local/lib/python3.10/site-packages/torch/utils/data/_utils/worker.py\", line 302, in _worker_loop\n    data = fetcher.fetch(index)\n  File \"/home/dansolombrino/.local/lib/python3.10/site-packages/torch/utils/data/_utils/fetch.py\", line 52, in fetch\n    return self.collate_fn(data)\n  File \"/home/dansolombrino/.local/lib/python3.10/site-packages/torch/utils/data/_utils/collate.py\", line 160, in default_collate\n    return elem_type({key: default_collate([d[key] for d in batch]) for key in elem})\n  File \"/home/dansolombrino/.local/lib/python3.10/site-packages/torch/utils/data/_utils/collate.py\", line 160, in <dictcomp>\n    return elem_type({key: default_collate([d[key] for d in batch]) for key in elem})\n  File \"/home/dansolombrino/.local/lib/python3.10/site-packages/torch/utils/data/_utils/collate.py\", line 140, in default_collate\n    out = elem.new(storage).resize_(len(batch), *list(elem.size()))\nRuntimeError: Trying to resize storage that is not resizable\n"
     ]
    }
   ],
   "source": [
    "for epoch in range(NUM_EPOCHS):  # loop over the dataset multiple times\n",
    "\n",
    "  running_loss = 0.0\n",
    "  \n",
    "  for i, batch in enumerate(fma_dataloader_train):\n",
    "    \n",
    "    print(\"batch: \", i)\n",
    "    inputs = batch[\"waveform\"]\n",
    "    print(\"inputs.shape: \", inputs.shape)\n",
    "    \n",
    "    labels = batch[\"label_one_hot\"]\n",
    "\n",
    "    # zero the parameter gradients\n",
    "    optimizer.zero_grad()\n",
    "\n",
    "    outputs = model(inputs)\n",
    "    outputs = outputs.squeeze(-1)\n",
    "    loss = criterion(outputs, labels)\n",
    "    loss.backward()\n",
    "    optimizer.step()\n",
    "\n",
    "    # print statistics\n",
    "    running_loss += loss.item()"
   ]
  },
  {
   "cell_type": "code",
   "execution_count": null,
   "metadata": {},
   "outputs": [],
   "source": []
  }
 ],
 "metadata": {
  "kernelspec": {
   "display_name": "Python 3.10.4 64-bit",
   "language": "python",
   "name": "python3"
  },
  "language_info": {
   "codemirror_mode": {
    "name": "ipython",
    "version": 3
   },
   "file_extension": ".py",
   "mimetype": "text/x-python",
   "name": "python",
   "nbconvert_exporter": "python",
   "pygments_lexer": "ipython3",
   "version": "3.10.4"
  },
  "orig_nbformat": 4,
  "vscode": {
   "interpreter": {
    "hash": "916dbcbb3f70747c44a77c7bcd40155683ae19c65e1c03b4aa3499c5328201f1"
   }
  }
 },
 "nbformat": 4,
 "nbformat_minor": 2
}
