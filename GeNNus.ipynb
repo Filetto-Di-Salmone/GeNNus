{
 "cells": [
  {
   "cell_type": "code",
   "execution_count": 1,
   "metadata": {},
   "outputs": [],
   "source": [
    "import torch\n",
    "from torch.utils.data import Dataset\n",
    "\n",
    "import torchaudio\n",
    "import torchaudio.transforms\n",
    "\n",
    "import sys, os\n",
    "\n",
    "from pprint import pprint\n",
    "\n",
    "from tqdm import tqdm\n",
    "\n",
    "import json\n",
    "\n",
    "import numpy as np\n",
    "\n",
    "import matplotlib.pylab as plt\n",
    "import seaborn as sns\n",
    "\n",
    "import librosa\n",
    "import librosa.display\n",
    "\n",
    "import pandas as pd\n",
    "\n",
    "from pathlib import Path\n",
    "\n",
    "import gc\n",
    "\n",
    "MANUAL_SEED = 69\n",
    "\n",
    "import torch.nn as nn\n",
    "import torch.nn.functional as F"
   ]
  },
  {
   "cell_type": "code",
   "execution_count": 2,
   "metadata": {},
   "outputs": [
    {
     "name": "stdout",
     "output_type": "stream",
     "text": [
      "Enabling notebook extension jupyter-js-widgets/extension...\n",
      "      - Validating: \u001b[32mOK\u001b[0m\n"
     ]
    }
   ],
   "source": [
    "!jupyter nbextension enable --py widgetsnbextension"
   ]
  },
  {
   "cell_type": "code",
   "execution_count": 3,
   "metadata": {},
   "outputs": [],
   "source": [
    "class FMADataset(Dataset):\n",
    "\n",
    "  def __init__(self, path, normalize_audio, audio_num_frames):\n",
    "    self.path = path\n",
    "    self.normalize_audio = normalize_audio\n",
    "    self.audio_num_frames = audio_num_frames\n",
    "    \n",
    "    self.data = self.load_raw_audio_data()\n",
    "\n",
    "  def __len__(self):\n",
    "    return len(self.data.index)\n",
    "\n",
    "  def __getitem__(self, idx):\n",
    "    return self.data.iloc[idx]\n",
    "  \n",
    "  def label_from_str_to_one_hot(self, label_str: str): \n",
    "  \n",
    "    if label_str == \"Pop\":\n",
    "      return torch.tensor([1, 0, 0, 0, 0, 0])\n",
    "    \n",
    "    if label_str == \"Hip-Hop\":\n",
    "      return torch.tensor([0, 1, 0, 0, 0, 0])\n",
    "    \n",
    "    if label_str == \"Electronic\":\n",
    "      return torch.tensor([0, 0, 1, 0, 0, 0])\n",
    "    \n",
    "    if label_str == \"Rock\":\n",
    "      return torch.tensor([0, 0, 0, 1, 0, 0])\n",
    "\n",
    "    if label_str == \"Folk\":\n",
    "      return torch.tensor([0, 0, 0, 0, 1, 0])\n",
    "\n",
    "    if label_str == \"Jazz\":\n",
    "      return torch.tensor([0, 0, 0, 0, 0, 1])\n",
    "  \n",
    "\n",
    "  def load_raw_audio_data(self):\n",
    "    \n",
    "    data_list = []\n",
    "    \n",
    "    num_audio_files_unable_to_open = 0\n",
    "\n",
    "    for path, subdirs, files in os.walk(self.path):\n",
    "      for name in tqdm(files, colour=\"magenta\"):\n",
    "          \n",
    "        file_audio_path = os.path.join(path, name)\n",
    "        \n",
    "        try:\n",
    "          waveform, sample_rate = torchaudio.load(\n",
    "            file_audio_path, normalize=self.normalize_audio,\n",
    "            num_frames=self.audio_num_frames\n",
    "          )\n",
    "          \n",
    "          label = file_audio_path.split(\"/\")[-2]\n",
    "          label_one_hot = self.label_from_str_to_one_hot(label)\n",
    "          \n",
    "          data_list.append(\n",
    "            {\n",
    "              \"waveform\": waveform, \n",
    "              \"og_sample_rate\": sample_rate,\n",
    "              \"label_one_hot\": label_one_hot,\n",
    "              \"label\": label,\n",
    "              \"path\": file_audio_path,\n",
    "              \"hop_length\": -1\n",
    "            }\n",
    "          )\n",
    "\n",
    "          \n",
    "        except:\n",
    "          # print(f\"[load_audio_data] error while loading {file_audio_path}\")\n",
    "          num_audio_files_unable_to_open += 1\n",
    "          continue\n",
    "    \n",
    "    return pd.DataFrame(data_list)"
   ]
  },
  {
   "cell_type": "code",
   "execution_count": 4,
   "metadata": {},
   "outputs": [],
   "source": [
    "DATASET_SIZE = \"small\"\n",
    "DATASET_NAME = f\"fma_{DATASET_SIZE}_organized_by_label_resampled_rechanneled\"\n",
    "DATASET_FOLDER = \"./data/audio\"\n",
    "# DATASET_FOLDER = \"/mnt/ramdisk\"\n",
    "\n",
    "dataset_path = f\"{DATASET_FOLDER}/{DATASET_NAME}\"\n",
    "\n",
    "NORMALIZE_AUDIO = True\n",
    "AUDIO_NUM_FRAMES = 238000"
   ]
  },
  {
   "cell_type": "code",
   "execution_count": 5,
   "metadata": {},
   "outputs": [
    {
     "name": "stderr",
     "output_type": "stream",
     "text": [
      "0it [00:00, ?it/s]\n",
      "100%|\u001b[35m██████████\u001b[0m| 499/499 [00:04<00:00, 103.29it/s]\n",
      "100%|\u001b[35m██████████\u001b[0m| 499/499 [00:05<00:00, 98.66it/s] \n",
      "100%|\u001b[35m██████████\u001b[0m| 499/499 [00:04<00:00, 101.30it/s]\n",
      "100%|\u001b[35m██████████\u001b[0m| 499/499 [00:05<00:00, 98.34it/s] \n",
      "100%|\u001b[35m██████████\u001b[0m| 499/499 [00:05<00:00, 93.75it/s] \n",
      "100%|\u001b[35m██████████\u001b[0m| 499/499 [00:05<00:00, 98.52it/s] \n"
     ]
    }
   ],
   "source": [
    "fma_dataset = FMADataset(\n",
    "  path=dataset_path, \n",
    "  normalize_audio=NORMALIZE_AUDIO, \n",
    "  audio_num_frames=AUDIO_NUM_FRAMES\n",
    ")"
   ]
  },
  {
   "cell_type": "code",
   "execution_count": 6,
   "metadata": {},
   "outputs": [],
   "source": [
    "TRAIN_PERCENTAGE = 0.7\n",
    "VAL_PERCENTAGE = 0.2\n",
    "# TEST_PERCENTAGE = 0.1\n",
    "\n",
    "full_size = len(fma_dataset)\n",
    "train_size = int(TRAIN_PERCENTAGE * len(fma_dataset))\n",
    "val_size = int(VAL_PERCENTAGE * len(fma_dataset))\n",
    "test_size = full_size - train_size - val_size"
   ]
  },
  {
   "cell_type": "code",
   "execution_count": 7,
   "metadata": {},
   "outputs": [],
   "source": [
    "generator=torch.Generator().manual_seed(MANUAL_SEED)\n",
    "\n",
    "fma_dataset_train, fma_dataset_val, fma_dataset_test = torch.utils.data.random_split(\n",
    "  fma_dataset, [train_size, val_size, test_size], generator\n",
    ")"
   ]
  },
  {
   "cell_type": "code",
   "execution_count": 8,
   "metadata": {},
   "outputs": [
    {
     "name": "stdout",
     "output_type": "stream",
     "text": [
      "2095\n",
      "598\n",
      "300\n"
     ]
    }
   ],
   "source": [
    "print(len(fma_dataset_train))\n",
    "print(len(fma_dataset_val))\n",
    "print(len(fma_dataset_test))"
   ]
  },
  {
   "cell_type": "code",
   "execution_count": 9,
   "metadata": {},
   "outputs": [],
   "source": [
    "def get_dataset_statistics(dataset):\n",
    "  class_counts = {\n",
    "    \"Electronic\": 0,\n",
    "    \"Pop\": 0,\n",
    "    \"Rock\": 0,\n",
    "    \"Jazz\": 0, \n",
    "    \"Hip-Hop\": 0,\n",
    "    \"Folk\": 0\n",
    "  }\n",
    "\n",
    "  for data_entry in dataset:\n",
    "    class_counts[data_entry[\"label\"]] += 1\n",
    "    \n",
    "  \n",
    "  return {\n",
    "    \"class_counts\": class_counts,\n",
    "    \"train_mean\": -1,\n",
    "    \"train_std\": -1\n",
    "  }"
   ]
  },
  {
   "cell_type": "code",
   "execution_count": 10,
   "metadata": {},
   "outputs": [],
   "source": [
    "train_statistics = get_dataset_statistics(fma_dataset_train)\n",
    "val_statistics = get_dataset_statistics(fma_dataset_val)\n",
    "test_statistics = get_dataset_statistics(fma_dataset_test)"
   ]
  },
  {
   "cell_type": "code",
   "execution_count": 11,
   "metadata": {},
   "outputs": [],
   "source": [
    "# print(\"train statistics: \")\n",
    "# pprint(train_statistics)\n",
    "\n",
    "# print(\"val statistics: \")\n",
    "# pprint(val_statistics)\n",
    "\n",
    "# print(\"test statistics: \")\n",
    "# pprint(test_statistics)"
   ]
  },
  {
   "cell_type": "code",
   "execution_count": 12,
   "metadata": {},
   "outputs": [],
   "source": [
    "BATCH_SIZE = 32\n",
    "NUM_WORKERS = 16"
   ]
  },
  {
   "cell_type": "code",
   "execution_count": 13,
   "metadata": {},
   "outputs": [],
   "source": [
    "fma_dataloader_train = torch.utils.data.DataLoader(\n",
    "  fma_dataset_train,batch_size=BATCH_SIZE, num_workers=NUM_WORKERS, \n",
    "  generator=generator\n",
    ")\n",
    "fma_dataloader_val = torch.utils.data.DataLoader(\n",
    "  fma_dataset_val,batch_size=BATCH_SIZE, num_workers=NUM_WORKERS, \n",
    "  generator=generator\n",
    ")\n",
    "fma_dataloader_test = torch.utils.data.DataLoader(\n",
    "  fma_dataset_test,batch_size=BATCH_SIZE, num_workers=NUM_WORKERS, \n",
    "  generator=generator\n",
    ")"
   ]
  },
  {
   "cell_type": "markdown",
   "metadata": {},
   "source": [
    "## Attempt 1\n",
    "\n",
    "First layers --> dimensionality reduction to roughly match dimensions of this paper https://arxiv.org/pdf/1703.01789.pdf\n",
    "\n",
    "Mid and final layers --> taken 1:1 from the paper linked above\n",
    "\n",
    "Batch norm placed BEFORE the activation function, as described in the og paper https://arxiv.org/abs/1502.03167 and explained by Bengio in his DL book https://www.deeplearningbook.org/contents/optimization.html in section 8.7.1\n",
    "\n",
    "Dropout placed according to the og paper: https://arxiv.org/pdf/1207.0580.pdf"
   ]
  },
  {
   "cell_type": "code",
   "execution_count": 46,
   "metadata": {},
   "outputs": [],
   "source": [
    "class CNN_Attempt_1(nn.Module):\n",
    "  def __init__(self, dropout_p):\n",
    "    super().__init__()\n",
    "    \n",
    "    self.dropout_p = dropout_p\n",
    "    \n",
    "    # First layers, see cell above for full explanation \n",
    "    \n",
    "    self.conv1 = nn.Conv1d(\n",
    "      in_channels=1, out_channels=128, kernel_size=6, stride=4\n",
    "    )\n",
    "    \n",
    "    # self.conv2 = nn.Conv1d(\n",
    "    #   in_channels=16, out_channels=32, kernel_size=3, stride=2\n",
    "    # )\n",
    "    \n",
    "    # Mid and final layers, see cell above for full explanation\n",
    "    \n",
    "    self.conv3 = nn.Conv1d(\n",
    "      in_channels=128, out_channels=128, kernel_size=3, stride=3\n",
    "    ) \n",
    "    \n",
    "    self.conv4 = nn.Conv1d(\n",
    "      in_channels=128, out_channels=128, kernel_size=3, stride=1\n",
    "    )\n",
    "    self.pool4 = nn.MaxPool1d(kernel_size=3, stride=3)\n",
    "    \n",
    "    self.conv5 = nn.Conv1d(\n",
    "      in_channels=128, out_channels=128, kernel_size=3, stride=1\n",
    "    )\n",
    "    self.pool5 = nn.MaxPool1d(kernel_size=3, stride=3)    \n",
    "    \n",
    "    self.conv6 = nn.Conv1d(\n",
    "      in_channels=128, out_channels=256, kernel_size=3, stride=1\n",
    "    )\n",
    "    self.pool6 = nn.MaxPool1d(kernel_size=3, stride=3)\n",
    "    \n",
    "    self.conv7 = nn.Conv1d(\n",
    "      in_channels=256, out_channels=256, kernel_size=3, stride=1\n",
    "    )\n",
    "    self.pool7 = nn.MaxPool1d(kernel_size=3, stride=3)      \n",
    "    \n",
    "    self.conv8 = nn.Conv1d(\n",
    "      in_channels=256, out_channels=256, kernel_size=3, stride=1, padding=1\n",
    "    )\n",
    "    self.pool8 = nn.MaxPool1d(kernel_size=3,  stride=3)      \n",
    "    \n",
    "    self.conv9 = nn.Conv1d(\n",
    "      in_channels=256, out_channels=256, kernel_size=3, stride=1, padding=1\n",
    "    )\n",
    "    self.pool9 = nn.MaxPool1d(kernel_size=3,  stride=3)      \n",
    "    \n",
    "    self.conv10 = nn.Conv1d(\n",
    "      in_channels=256, out_channels=256, kernel_size=3, stride=1, padding=1\n",
    "    )\n",
    "    self.pool10 = nn.MaxPool1d(kernel_size=3,  stride=3)      \n",
    "    \n",
    "    self.conv11 = nn.Conv1d(\n",
    "      in_channels=256, out_channels=256, kernel_size=3, stride=1, padding=1\n",
    "    )\n",
    "    self.pool11 = nn.MaxPool1d(kernel_size=3,  stride=3)      \n",
    "\n",
    "    self.conv12 = nn.Conv1d(\n",
    "      in_channels=256, out_channels=512, kernel_size=3, stride=1, padding=1\n",
    "    )\n",
    "    self.pool12 = nn.MaxPool1d(kernel_size=3,  stride=3)      \n",
    "\n",
    "    self.conv13 = nn.Conv1d(\n",
    "      in_channels=512, out_channels=512, kernel_size=1, stride=1\n",
    "    )\n",
    "    \n",
    "    self.dropout = nn.Dropout(p=self.dropout_p)\n",
    "    \n",
    "    self.relu = nn.ReLU()\n",
    "    self.sigmoid = nn.Sigmoid()\n",
    "    \n",
    "    self.bn_16 = nn.BatchNorm1d(num_features=16)       \n",
    "    self.bn_32 = nn.BatchNorm1d(num_features=32)       \n",
    "    self.bn_128 = nn.BatchNorm1d(num_features=128)       \n",
    "    self.bn_256 = nn.BatchNorm1d(num_features=256)       \n",
    "    self.bn_512 = nn.BatchNorm1d(num_features=512)       \n",
    "    \n",
    "\n",
    "  def forward(self, x):\n",
    "    \n",
    "    # First layers, see cell above for full explanation \n",
    "    \n",
    "    x = self.conv1(x)\n",
    "    x = self.bn_128(x)\n",
    "    x = self.relu(x)\n",
    "    \n",
    "    print(\"-2. x.shape\", x.shape)\n",
    "    \n",
    "    # x = self.conv2(x)\n",
    "    # x = self.bn_32(x)\n",
    "    # x = self.relu(x)\n",
    "    \n",
    "    # print(\"-1. x.shape\", x.shape)\n",
    "    \n",
    "    # Mid and final layers, see cell above for full explanation \n",
    "    \n",
    "    x = self.conv3(x)\n",
    "    x = self.bn_128(x)\n",
    "    x = self.relu(x)\n",
    "    \n",
    "    print(\"3. x.shape\", x.shape)\n",
    "\n",
    "    x = self.conv4(x)\n",
    "    x = self.pool4(x)\n",
    "    x = self.bn_128(x)\n",
    "    x = self.relu(x)\n",
    "    \n",
    "    print(\"4. x.shape\", x.shape)\n",
    "    \n",
    "    x = self.conv5(x)\n",
    "    x = self.pool5(x)\n",
    "    x = self.bn_128(x)\n",
    "    x = self.relu(x)\n",
    "    \n",
    "    print(\"5. x.shape\", x.shape)\n",
    "\n",
    "    x = self.conv6(x)\n",
    "    x = self.pool6(x)\n",
    "    x = self.bn_256(x)\n",
    "    x = self.relu(x)\n",
    "    \n",
    "    print(\"6. x.shape\", x.shape)\n",
    "    \n",
    "    x = self.conv7(x)\n",
    "    x = self.pool7(x)\n",
    "    x = self.bn_256(x)\n",
    "    x = self.relu(x)\n",
    "    \n",
    "    print(\"7. x.shape\", x.shape)\n",
    "    \n",
    "    x = self.conv8(x)\n",
    "    print(\"8_conv. x.shape\", x.shape)\n",
    "    x = self.pool8(x)\n",
    "    # print(\"7_pool. x.shape\", x.shape)\n",
    "    x = self.bn_256(x)\n",
    "    x = self.relu(x)\n",
    "  \n",
    "\n",
    "    \n",
    "    x = self.conv9(x)\n",
    "    print(\"9_conv. x.shape\", x.shape)\n",
    "    x = self.pool9(x)\n",
    "    # print(\"8_pool. x.shape\", x.shape)\n",
    "    x = self.bn_256(x)\n",
    "    x = self.relu(x)\n",
    "    \n",
    "    \n",
    "    x = self.conv10(x)\n",
    "    print(\"10_conv. x.shape: \", x.shape)\n",
    "    x = self.pool10(x)\n",
    "    # print(\"9_pool. x.shape: \", x.shape)\n",
    "    x = self.bn_256(x)\n",
    "    x = self.relu(x)\n",
    "    \n",
    "    x = self.conv11(x)\n",
    "    print(\"11_conv. x.shape: \", x.shape)\n",
    "    x = self.pool11(x)\n",
    "    print(\"11_pool. x.shape: \", x.shape)\n",
    "    x = self.bn_256(x)\n",
    "    x = self.relu(x)\n",
    "    \n",
    "    x = self.conv12(x)\n",
    "    print(\"12_conv. x.shape: \", x.shape)\n",
    "    x = self.pool12(x)\n",
    "    # print(\"11_pool. x.shape: \", x.shape)\n",
    "    x = self.bn_512(x)\n",
    "    x = self.relu(x)\n",
    "    \n",
    "    x = self.conv13(x)\n",
    "    print(\"13_conv. x.shape: \", x.shape)\n",
    "    x = self.bn_512(x)\n",
    "    x = self.sigmoid(x)\n",
    "    x = self.dropout(x)\n",
    "    \n",
    "    return x"
   ]
  },
  {
   "cell_type": "code",
   "execution_count": 47,
   "metadata": {},
   "outputs": [
    {
     "name": "stdout",
     "output_type": "stream",
     "text": [
      "-2. x.shape torch.Size([16, 128, 59499])\n",
      "3. x.shape torch.Size([16, 128, 19833])\n",
      "4. x.shape torch.Size([16, 128, 6610])\n",
      "5. x.shape torch.Size([16, 128, 2202])\n",
      "6. x.shape torch.Size([16, 256, 733])\n",
      "7. x.shape torch.Size([16, 256, 243])\n",
      "8_conv. x.shape torch.Size([16, 256, 243])\n",
      "9_conv. x.shape torch.Size([16, 256, 81])\n",
      "10_conv. x.shape:  torch.Size([16, 256, 27])\n",
      "11_conv. x.shape:  torch.Size([16, 256, 9])\n",
      "11_pool. x.shape:  torch.Size([16, 256, 3])\n",
      "12_conv. x.shape:  torch.Size([16, 512, 3])\n",
      "13_conv. x.shape:  torch.Size([16, 512, 1])\n"
     ]
    }
   ],
   "source": [
    "cnn_attempt_1 = CNN_Attempt_1(dropout_p=0.1)\n",
    "\n",
    "x = torch.rand((16, 1, 238000))\n",
    "\n",
    "x_out = cnn_attempt_1(x)"
   ]
  },
  {
   "cell_type": "code",
   "execution_count": null,
   "metadata": {},
   "outputs": [
    {
     "data": {
      "text/plain": [
       "tensor([[0.9619, 0.9511, 0.1388,  ..., 0.8091, 0.4585, 0.6079]])"
      ]
     },
     "execution_count": 43,
     "metadata": {},
     "output_type": "execute_result"
    }
   ],
   "source": [
    "x"
   ]
  },
  {
   "cell_type": "code",
   "execution_count": null,
   "metadata": {},
   "outputs": [],
   "source": []
  },
  {
   "cell_type": "code",
   "execution_count": null,
   "metadata": {},
   "outputs": [],
   "source": []
  },
  {
   "cell_type": "code",
   "execution_count": 29,
   "metadata": {},
   "outputs": [],
   "source": [
    "def calculate_output_length(length_in, kernel_size, stride=1, padding=0, dilation=1):\n",
    "  return (length_in + 2 * padding - dilation * (kernel_size - 1) - 1) // stride + 1"
   ]
  },
  {
   "cell_type": "code",
   "execution_count": 76,
   "metadata": {},
   "outputs": [
    {
     "data": {
      "text/plain": [
       "39666"
      ]
     },
     "execution_count": 76,
     "metadata": {},
     "output_type": "execute_result"
    }
   ],
   "source": [
    "conv1_out = calculate_output_length(238000, 6, 6)\n",
    "conv1_out"
   ]
  },
  {
   "cell_type": "code",
   "execution_count": 78,
   "metadata": {},
   "outputs": [
    {
     "data": {
      "text/plain": [
       "19832"
      ]
     },
     "execution_count": 78,
     "metadata": {},
     "output_type": "execute_result"
    }
   ],
   "source": [
    "calculate_output_length(conv1_out, 3, 2)"
   ]
  },
  {
   "cell_type": "code",
   "execution_count": 31,
   "metadata": {},
   "outputs": [
    {
     "data": {
      "text/plain": [
       "81"
      ]
     },
     "execution_count": 31,
     "metadata": {},
     "output_type": "execute_result"
    }
   ],
   "source": [
    "conv3_out = calculate_output_length(243, 3, 3)\n",
    "conv3_out"
   ]
  }
 ],
 "metadata": {
  "kernelspec": {
   "display_name": "Python 3.10.4 64-bit",
   "language": "python",
   "name": "python3"
  },
  "language_info": {
   "codemirror_mode": {
    "name": "ipython",
    "version": 3
   },
   "file_extension": ".py",
   "mimetype": "text/x-python",
   "name": "python",
   "nbconvert_exporter": "python",
   "pygments_lexer": "ipython3",
   "version": "3.10.4"
  },
  "orig_nbformat": 4,
  "vscode": {
   "interpreter": {
    "hash": "916dbcbb3f70747c44a77c7bcd40155683ae19c65e1c03b4aa3499c5328201f1"
   }
  }
 },
 "nbformat": 4,
 "nbformat_minor": 2
}
