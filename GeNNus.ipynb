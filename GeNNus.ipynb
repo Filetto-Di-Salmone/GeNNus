{
 "cells": [
  {
   "cell_type": "markdown",
   "metadata": {},
   "source": [
    "# <center> GeNNus </center>\n"
   ]
  },
  {
   "cell_type": "markdown",
   "metadata": {},
   "source": [
    "## <center> Imports"
   ]
  },
  {
   "cell_type": "code",
   "execution_count": 1,
   "metadata": {},
   "outputs": [],
   "source": [
    "import torch\n",
    "from torch.utils.data import Dataset\n",
    "\n",
    "import torchaudio\n",
    "import torchaudio.transforms\n",
    "\n",
    "import sys, os\n",
    "\n",
    "from pprint import pprint\n",
    "\n",
    "from tqdm import tqdm\n",
    "\n",
    "import json\n",
    "\n",
    "import numpy as np\n",
    "\n",
    "import matplotlib.pylab as plt\n",
    "import seaborn as sns\n",
    "\n",
    "import librosa\n",
    "import librosa.display\n",
    "\n",
    "import pandas as pd\n",
    "\n",
    "from pathlib import Path\n"
   ]
  },
  {
   "cell_type": "markdown",
   "metadata": {},
   "source": [
    "## <center> Data pre-processing </center>"
   ]
  },
  {
   "cell_type": "code",
   "execution_count": 2,
   "metadata": {},
   "outputs": [],
   "source": [
    "def label_from_str_to_one_hot(label_str: str): \n",
    "  \n",
    "  if label_str == \"Pop\":\n",
    "    return torch.tensor([1, 0, 0, 0, 0, 0])\n",
    "  \n",
    "  if label_str == \"Hip-Hop\":\n",
    "    return torch.tensor([0, 1, 0, 0, 0, 0])\n",
    "  \n",
    "  if label_str == \"Electronic\":\n",
    "    return torch.tensor([0, 0, 1, 0, 0, 0])\n",
    "  \n",
    "  if label_str == \"Rock\":\n",
    "    return torch.tensor([0, 0, 0, 1, 0, 0])\n",
    "\n",
    "  if label_str == \"Folk\":\n",
    "    return torch.tensor([0, 0, 0, 0, 1, 0])\n",
    "\n",
    "  if label_str == \"Jazz\":\n",
    "    return torch.tensor([0, 0, 0, 0, 0, 1])"
   ]
  },
  {
   "cell_type": "code",
   "execution_count": 3,
   "metadata": {},
   "outputs": [],
   "source": [
    "def load_raw_audio_data(\n",
    "  path, normalize_audio: bool, audio_num_frames: int, num_channels: int\n",
    "):\n",
    "  \n",
    "  audio_tensor_list = []\n",
    "\n",
    "  # TODO use glob instead of this\n",
    "  for path, subdirs, files in tqdm(os.walk(path), colour=\"teal\"):\n",
    "    for name in tqdm(files, colour=\"turquoise\"):\n",
    "        \n",
    "      file_audio_path = os.path.join(path, name)\n",
    "      \n",
    "      try:\n",
    "        waveform, sample_rate = torchaudio.load(\n",
    "          file_audio_path, normalize=normalize_audio,\n",
    "          num_frames=audio_num_frames\n",
    "        )\n",
    "        \n",
    "        label = file_audio_path.split(\"/\")[-2]\n",
    "        label_one_hot = label_from_str_to_one_hot(label)\n",
    "        \n",
    "        audio_tensor_list.append(\n",
    "          {\n",
    "            \"waveform\": waveform[0:num_channels], \n",
    "            \"og_sample_rate\": sample_rate,\n",
    "            \"label_one_hot\": label_one_hot,\n",
    "            \"label\": label\n",
    "          }\n",
    "        )\n",
    "        \n",
    "      except:\n",
    "        print(f\"[load_audio_data] error while loading {file_audio_path}\")\n",
    "        continue\n",
    "  \n",
    "  return audio_tensor_list\n",
    "        \n",
    "        "
   ]
  },
  {
   "cell_type": "code",
   "execution_count": 4,
   "metadata": {},
   "outputs": [],
   "source": [
    "# \"audio_hop\" --> take one sample ever hop_length elements\n",
    "def resample_audio(og_audio_list, hop_length: int):\n",
    "  \n",
    "  resampled_audio_tensor_list = []\n",
    "  \n",
    "  for audio in tqdm(og_audio_list, colour=\"steelblue\"):\n",
    "    \n",
    "    resampled_waveform = torchaudio.functional.resample(\n",
    "        audio[\"waveform\"], \n",
    "        # as per Torch Audio docs, this is the way of performing \"hopping\" in a \n",
    "        # similar way as the Mel Spectrogram transform does\n",
    "        orig_freq=hop_length, new_freq=1\n",
    "      )\n",
    "    \n",
    "    resampled_audio_tensor_list.append(\n",
    "      {\n",
    "        \"waveform\": resampled_waveform.numpy(), \n",
    "        \"og_sample_rate\": audio[\"og_sample_rate\"],\n",
    "        \"hop_length\": hop_length,\n",
    "        \"label_one_hot\": audio[\"label_one_hot\"].numpy(),\n",
    "        \"label\": audio[\"label\"]\n",
    "      }\n",
    "    )\n",
    "    \n",
    "  return resampled_audio_tensor_list"
   ]
  },
  {
   "cell_type": "code",
   "execution_count": 5,
   "metadata": {},
   "outputs": [],
   "source": [
    "DATASET_SIZE = \"extra_small\""
   ]
  },
  {
   "cell_type": "code",
   "execution_count": 6,
   "metadata": {},
   "outputs": [
    {
     "name": "stderr",
     "output_type": "stream",
     "text": [
      "0it [00:00, ?it/s]\n",
      "100%|██████████| 5/5 [00:00<00:00, 16.75it/s]\n",
      "100%|██████████| 5/5 [00:00<00:00, 21.60it/s]\n",
      "100%|██████████| 5/5 [00:00<00:00, 20.77it/s]\n",
      "100%|██████████| 5/5 [00:00<00:00, 22.54it/s]\n",
      "100%|██████████| 5/5 [00:00<00:00, 22.36it/s]\n",
      "100%|██████████| 5/5 [00:00<00:00, 24.21it/s]\n",
      "7it [00:01,  4.85it/s]\n"
     ]
    }
   ],
   "source": [
    "og_audio_list = load_raw_audio_data(\n",
    "  path=f\"./data/fma_{DATASET_SIZE}_organized_by_label/\", \n",
    "  normalize_audio=True, \n",
    "  audio_num_frames=1320000,\n",
    "  num_channels=1\n",
    ")"
   ]
  },
  {
   "cell_type": "code",
   "execution_count": 7,
   "metadata": {},
   "outputs": [
    {
     "name": "stderr",
     "output_type": "stream",
     "text": [
      "100%|██████████| 30/30 [00:00<00:00, 113.98it/s]\n"
     ]
    }
   ],
   "source": [
    "hop_length = 128\n",
    "\n",
    "hopped_audio_list = resample_audio(og_audio_list, hop_length)"
   ]
  },
  {
   "cell_type": "code",
   "execution_count": 8,
   "metadata": {},
   "outputs": [],
   "source": [
    "# code taken from: https://stackoverflow.com/a/47626762\n",
    "\n",
    "class NumpyEncoder(json.JSONEncoder):\n",
    "  \n",
    "  def default(self, obj):\n",
    "    \n",
    "    if isinstance(obj, np.ndarray):\n",
    "      return obj.tolist()\n",
    "    \n",
    "    return json.JSONEncoder.default(self, obj)\n",
    "\n",
    "def export_pre_processed_data(\n",
    "  pre_processed_data, export_path: str, export_name: str\n",
    "):\n",
    "  \n",
    "  with open(f\"{export_path}/{export_name}\", \"w\") as final:\n",
    "    json.dump(pre_processed_data, final, cls=NumpyEncoder)"
   ]
  },
  {
   "cell_type": "code",
   "execution_count": 9,
   "metadata": {},
   "outputs": [],
   "source": [
    "# my_file = Path(f\"./data/fma_extra_small_hop_{hop_length}.json\")\n",
    "\n",
    "# if not my_file.is_file():\n",
    "\n",
    "export_pre_processed_data(\n",
    "  hopped_audio_list, \n",
    "  \"./data\", \n",
    "  f\"fma_{DATASET_SIZE}_hop_length_{hop_length}.json\"\n",
    ")"
   ]
  },
  {
   "cell_type": "code",
   "execution_count": 10,
   "metadata": {},
   "outputs": [
    {
     "data": {
      "text/plain": [
       "(1, 10313)"
      ]
     },
     "execution_count": 10,
     "metadata": {},
     "output_type": "execute_result"
    }
   ],
   "source": [
    "hopped_audio_list[0][\"waveform\"].shape"
   ]
  },
  {
   "cell_type": "code",
   "execution_count": 11,
   "metadata": {},
   "outputs": [],
   "source": [
    "def load_dataset_from_disk(dataset_path: str, data_type: str):\n",
    "  f = open(dataset_path)\n",
    "\n",
    "  pre_processed_data_from_disk = json.load(f)\n",
    "  \n",
    "  for i in range(len(pre_processed_data_from_disk)):\n",
    "    \n",
    "    pre_processed_data_from_disk[i][data_type] = torch.tensor(\n",
    "      pre_processed_data_from_disk[i][data_type]\n",
    "    )\n",
    "  \n",
    "  return pre_processed_data_from_disk"
   ]
  },
  {
   "cell_type": "code",
   "execution_count": 12,
   "metadata": {},
   "outputs": [],
   "source": [
    "loaded_data = load_dataset_from_disk(\n",
    "  f\"./data/fma_{DATASET_SIZE}_hop_{hop_length}.json\", data_type=\"waveform\"\n",
    ")"
   ]
  },
  {
   "cell_type": "code",
   "execution_count": 13,
   "metadata": {},
   "outputs": [],
   "source": [
    "def get_mel_spectrogram_transform(\n",
    "  sample_rate: int, n_fft, win_length, hop_length, n_mels\n",
    "):\n",
    "\n",
    "  return torchaudio.transforms.MelSpectrogram(\n",
    "    sample_rate=sample_rate,\n",
    "    n_fft=n_fft,\n",
    "    win_length=win_length,\n",
    "    hop_length=hop_length,\n",
    "    center=True,\n",
    "    pad_mode=\"reflect\",\n",
    "    power=2.0,\n",
    "    norm='slaney',\n",
    "    onesided=True,\n",
    "    n_mels=n_mels,\n",
    "    mel_scale=\"htk\",\n",
    "  )\n",
    "\n",
    "def get_mel_spectrogram(\n",
    "  og_audio_list, n_fft, win_length, hop_length, n_mels, num_channels\n",
    "):\n",
    "  \n",
    "  mel_spectrogram_tensor_list = []\n",
    "  \n",
    "  for audio in og_audio_list:\n",
    "    \n",
    "    mel_spectrogram_transform = get_mel_spectrogram_transform(\n",
    "      audio[\"og_sample_rate\"],\n",
    "      n_fft=n_fft, win_length=win_length, hop_length=hop_length, n_mels=n_mels\n",
    "    )\n",
    "    \n",
    "    mel_spectrogram = mel_spectrogram_transform(audio[\"waveform\"])\n",
    "    \n",
    "    mel_spectrogram_tensor_list.append(\n",
    "      {\n",
    "        \"mel_spectrogram\": mel_spectrogram[:num_channels].numpy(), \n",
    "        \"og_sample_rate\": audio[\"og_sample_rate\"],\n",
    "        \"label_one_hot\": audio[\"label_one_hot\"].numpy(),\n",
    "        \"label\": audio[\"label\"],\n",
    "        \"mel_spectrogram_config\": {\n",
    "          \"n_fft\": n_fft, \n",
    "          \"win_length\": win_length, \n",
    "          \"hop_length\": hop_length, \n",
    "          \"n_mels\": n_mels\n",
    "        }\n",
    "      }\n",
    "    )\n",
    "    \n",
    "  return mel_spectrogram_tensor_list"
   ]
  },
  {
   "cell_type": "code",
   "execution_count": 14,
   "metadata": {},
   "outputs": [],
   "source": [
    "n_fft=1024\n",
    "win_length=None\n",
    "hop_length=4096 \n",
    "n_mels=16"
   ]
  },
  {
   "cell_type": "code",
   "execution_count": 15,
   "metadata": {},
   "outputs": [],
   "source": [
    "mel_spectros = get_mel_spectrogram(\n",
    "  og_audio_list, \n",
    "  n_fft=n_fft, \n",
    "  win_length=win_length, \n",
    "  hop_length=hop_length, \n",
    "  n_mels=n_mels,\n",
    "  num_channels=1\n",
    ")"
   ]
  },
  {
   "cell_type": "code",
   "execution_count": 16,
   "metadata": {},
   "outputs": [
    {
     "name": "stdout",
     "output_type": "stream",
     "text": [
      "(1, 16, 323)\n"
     ]
    }
   ],
   "source": [
    "pprint(mel_spectros[0][\"mel_spectrogram\"].shape)"
   ]
  },
  {
   "cell_type": "code",
   "execution_count": 17,
   "metadata": {},
   "outputs": [],
   "source": [
    "def plot_spectrogram(spec, title=None, ylabel='freq_bin', aspect='auto', xmax=None):\n",
    "  fig, axs = plt.subplots(1, 1)\n",
    "  axs.set_title(title or 'Spectrogram (db)')\n",
    "  axs.set_ylabel(ylabel)\n",
    "  axs.set_xlabel('frame')\n",
    "  im = axs.imshow(librosa.power_to_db(spec), origin='lower', aspect=aspect)\n",
    "  if xmax:\n",
    "    axs.set_xlim((0, xmax))\n",
    "  fig.colorbar(im, ax=axs)\n",
    "  plt.show(block=False)"
   ]
  },
  {
   "cell_type": "code",
   "execution_count": 20,
   "metadata": {},
   "outputs": [
    {
     "data": {
      "image/png": "[encoded data removed]",
      "text/plain": [
       "<Figure size 432x288 with 2 Axes>"
      ]
     },
     "metadata": {
      "needs_background": "light"
     },
     "output_type": "display_data"
    }
   ],
   "source": [
    "plot_spectrogram(\n",
    "  mel_spectros[29][\"mel_spectrogram\"][0], title=\"MelSpectrogram - torchaudio - channel 0\", ylabel='mel freq'\n",
    ")\n",
    "\n",
    "# plot_spectrogram(\n",
    "#   mel_spectros[29][\"mel_spectrogram\"][1], title=\"MelSpectrogram - torchaudio - channel 1\", ylabel='mel freq'\n",
    "# )"
   ]
  },
  {
   "cell_type": "code",
   "execution_count": 21,
   "metadata": {},
   "outputs": [],
   "source": [
    "# TODO place all songs of similar genre in the same Tensor, in order to perform the average.\n",
    "# Plot that average and storytell it as the average spectrogram of the genre."
   ]
  },
  {
   "cell_type": "code",
   "execution_count": null,
   "metadata": {},
   "outputs": [],
   "source": [
    "# TODO place PCA and other non-linear dimensionality reductions here to show the data space"
   ]
  },
  {
   "cell_type": "code",
   "execution_count": 22,
   "metadata": {},
   "outputs": [],
   "source": [
    "export_pre_processed_data(\n",
    "  mel_spectros, \n",
    "  \"./data\", \n",
    "  f\"fma_{DATASET_SIZE}_mel_spectrogram_n_fft_{n_fft}_win_length_{win_length}_\" \\\n",
    "  f\"hop_length_{hop_length}_n_mels_{n_mels}.json\"\n",
    ")"
   ]
  },
  {
   "cell_type": "code",
   "execution_count": 23,
   "metadata": {},
   "outputs": [],
   "source": [
    "loaded_data = load_dataset_from_disk(\n",
    "  \"./data/\" + \n",
    "    f\"fma_{DATASET_SIZE}_mel_spectrogram_n_fft_{n_fft}_win_length_{win_length}_\" +\n",
    "    f\"hop_length_{hop_length}_n_mels_{n_mels}.json\",\n",
    "  data_type=\"mel_spectrogram\"\n",
    ")"
   ]
  },
  {
   "cell_type": "code",
   "execution_count": null,
   "metadata": {},
   "outputs": [],
   "source": []
  }
 ],
 "metadata": {
  "kernelspec": {
   "display_name": "Python 3.10.4 64-bit",
   "language": "python",
   "name": "python3"
  },
  "language_info": {
   "codemirror_mode": {
    "name": "ipython",
    "version": 3
   },
   "file_extension": ".py",
   "mimetype": "text/x-python",
   "name": "python",
   "nbconvert_exporter": "python",
   "pygments_lexer": "ipython3",
   "version": "3.10.4"
  },
  "orig_nbformat": 4,
  "vscode": {
   "interpreter": {
    "hash": "31f2aee4e71d21fbe5cf8b01ff0e069b9275f58929596ceb00d14d90e3e16cd6"
   }
  }
 },
 "nbformat": 4,
 "nbformat_minor": 2
}
