{
 "cells": [
  {
   "attachments": {},
   "cell_type": "markdown",
   "metadata": {},
   "source": [
    "# <center> GeNNus CNN Mel Spectrogram conv to fully-connected size\n",
    "\n",
    "A set of utilities to compute the size of the fully-connected in_features, when the previous layer is a convolutional layer.\n",
    "\n",
    "This is needed in all of our CNNs, since we add a final, fully-connected (or linear) layer."
   ]
  },
  {
   "cell_type": "code",
   "execution_count": 1,
   "metadata": {},
   "outputs": [],
   "source": [
    "import torch\n",
    "\n",
    "from torch import nn"
   ]
  },
  {
   "cell_type": "code",
   "execution_count": 2,
   "metadata": {},
   "outputs": [],
   "source": [
    "class CNN(nn.Module):\n",
    "  def __init__(\n",
    "    self, \n",
    "    num_layers, \n",
    "    kernel_sizes, strides, \n",
    "    in_channels, num_filters,\n",
    "    pool_sizes, pool_strides,\n",
    "    dropout_p_conv\n",
    "  ):\n",
    "    super().__init__()\n",
    "\n",
    "    self.num_layers = num_layers \n",
    "    self.kernel_sizes = kernel_sizes \n",
    "    self.strides = strides \n",
    "    self.in_channels = in_channels \n",
    "    self.num_filters = num_filters\n",
    "    self.pool_sizes = pool_sizes \n",
    "    self.pool_strides = pool_strides\n",
    "    \n",
    "    self.dropout_p_conv = dropout_p_conv\n",
    "\n",
    "    \n",
    "    self.conv_layers = nn.Sequential()\n",
    "    self.fc_layers = nn.Sequential()\n",
    "    \n",
    "    for i in range(num_layers):\n",
    "      \n",
    "      conv_layer = nn.Conv2d(\n",
    "        kernel_size=self.kernel_sizes[i],\n",
    "        stride=self.strides[i],\n",
    "        in_channels=in_channels,\n",
    "        out_channels=self.num_filters[i]\n",
    "      )\n",
    "      torch.nn.init.xavier_uniform_(conv_layer.weight)\n",
    "\n",
    "      \n",
    "      pooling_layer = nn.MaxPool2d(\n",
    "        kernel_size=self.pool_sizes[i],\n",
    "        stride=self.pool_strides[i],\n",
    "      )\n",
    "      \n",
    "      in_channels = self.num_filters[i]\n",
    "      \n",
    "      self.conv_layers.add_module(name=f\"conv_{i}\", module=conv_layer)\n",
    "      \n",
    "      self.conv_layers.add_module(name=f\"pool_{i}\", module=pooling_layer)\n",
    "        \n",
    "      self.conv_layers.add_module(\n",
    "        name=f\"batchnorm_{i}\", \n",
    "        module=nn.BatchNorm2d(num_features=self.num_filters[i])\n",
    "      )\n",
    "        \n",
    "      self.conv_layers.add_module(name=f\"activ_{i}\", module=nn.ReLU())\n",
    "\n",
    "      self.conv_layers.add_module(\n",
    "        name=f\"dropout_{i}\", module=nn.Dropout(p=self.dropout_p_conv)\n",
    "      )\n",
    "  \n",
    "  def forward(self, x):    \n",
    "    x = self.conv_layers(x)\n",
    "\n",
    "    return x\n",
    "\n",
    "  def get_model_setup(self):\n",
    "    \n",
    "    return {\n",
    "      \"num_layers\": self.num_layers, \n",
    "      \"kernel_sizes\": self.kernel_sizes, \n",
    "      \"strides\": self.strides, \n",
    "      \"in_channels\": self.in_channels, \n",
    "      \"num_filters\": self.num_filters,\n",
    "      \"pool_sizes\": self.pool_sizes, \n",
    "      \"pool_strides\": self.pool_strides,\n",
    "      \"dropout_p_conv\": self.dropout_p_conv,\n",
    "      \"dropout_p_linear\": self.dropout_p_linear,\n",
    "    }"
   ]
  },
  {
   "cell_type": "code",
   "execution_count": 13,
   "metadata": {},
   "outputs": [],
   "source": [
    "k_fold_cv_kernel_sizes = [   3,    3,   3]\n",
    "k_fold_cv_pool_sizes   = [   3,    3,   3]\n",
    "k_fold_cv_strides      = [   2,    2,   1]\n",
    "k_fold_cv_pool_strides = [   2,    2,   1]\n",
    "k_fold_cv_num_filters  = [   1,    2,   4]\n",
    "\n",
    "k_fold_cv_num_layers = len(k_fold_cv_num_filters)"
   ]
  },
  {
   "cell_type": "code",
   "execution_count": 14,
   "metadata": {},
   "outputs": [],
   "source": [
    "cnn = CNN(\n",
    "  kernel_sizes = k_fold_cv_kernel_sizes,\n",
    "  pool_sizes = k_fold_cv_pool_sizes,\n",
    "  strides = k_fold_cv_strides,\n",
    "  pool_strides = k_fold_cv_pool_strides,\n",
    "  num_filters = k_fold_cv_num_filters,\n",
    "  num_layers=k_fold_cv_num_layers,\n",
    "  in_channels=1,\n",
    "  dropout_p_conv=0.0\n",
    ")"
   ]
  },
  {
   "cell_type": "code",
   "execution_count": 15,
   "metadata": {},
   "outputs": [],
   "source": [
    "out = cnn(torch.rand((64, 1, 128, 1860)))"
   ]
  },
  {
   "cell_type": "code",
   "execution_count": 16,
   "metadata": {},
   "outputs": [
    {
     "name": "stdout",
     "output_type": "stream",
     "text": [
      "4 * 3 * 111\n"
     ]
    }
   ],
   "source": [
    "print(f\"{out.shape[1]} * {out.shape[2]} * {out.shape[3]}\")"
   ]
  }
 ],
 "metadata": {
  "kernelspec": {
   "display_name": "Python 3.10.4 64-bit",
   "language": "python",
   "name": "python3"
  },
  "language_info": {
   "codemirror_mode": {
    "name": "ipython",
    "version": 3
   },
   "file_extension": ".py",
   "mimetype": "text/x-python",
   "name": "python",
   "nbconvert_exporter": "python",
   "pygments_lexer": "ipython3",
   "version": "3.10.4 (main, Apr  2 2022, 09:04:19) [GCC 11.2.0]"
  },
  "orig_nbformat": 4,
  "vscode": {
   "interpreter": {
    "hash": "916dbcbb3f70747c44a77c7bcd40155683ae19c65e1c03b4aa3499c5328201f1"
   }
  }
 },
 "nbformat": 4,
 "nbformat_minor": 2
}
