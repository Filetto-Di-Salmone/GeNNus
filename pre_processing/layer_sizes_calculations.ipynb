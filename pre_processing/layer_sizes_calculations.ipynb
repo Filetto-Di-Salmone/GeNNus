{
 "cells": [
  {
   "cell_type": "code",
   "execution_count": 1,
   "metadata": {},
   "outputs": [],
   "source": [
    "import math"
   ]
  },
  {
   "cell_type": "code",
   "execution_count": 2,
   "metadata": {},
   "outputs": [],
   "source": [
    "def calculate_output_length(length_in, kernel_size, stride=1, padding=0, dilation=1):\n",
    "  return (\n",
    "    length_in + 2 * padding - dilation * (kernel_size - 1) - 1\n",
    "  ) // stride + 1"
   ]
  },
  {
   "cell_type": "code",
   "execution_count": 3,
   "metadata": {},
   "outputs": [],
   "source": [
    "def calculate_pool_length(w, f, s):\n",
    "  return math.floor( ( ( w - f ) / s ) + 1 )"
   ]
  },
  {
   "cell_type": "code",
   "execution_count": 5,
   "metadata": {},
   "outputs": [],
   "source": [
    "def calculate_num_params_conv_layer(\n",
    "  channels_in, kernel_width, kernel_height, channels_out\n",
    "):\n",
    "  return channels_in * kernel_width * kernel_height * channels_out + channels_out"
   ]
  },
  {
   "cell_type": "code",
   "execution_count": 21,
   "metadata": {},
   "outputs": [
    {
     "name": "stdout",
     "output_type": "stream",
     "text": [
      "compr_out_0_out: 9915, num_params: 1056\n",
      "compr_out_1_out: 1649, num_params: 32832\n",
      "compr_out_2_out: 137, num_params: 65664\n",
      "compr_out_3_out: 32, num_params: 3078\n",
      "\n",
      "\n",
      "total number of params: 102630\n"
     ]
    }
   ],
   "source": [
    "# kernel_sizes = [64, 32, 16,   8,   4]\n",
    "# pool_sizes   = [ 8,  8,  2,   2,   4]\n",
    "# strides      = [ 3,  3,  2,   2,   2]\n",
    "# pool_strides = [ 8,  8,  2,   4,   2]\n",
    "# num_filters  = [16, 32, 64, 128,   6]\n",
    "\n",
    "kernel_sizes = [32, 16,   8,   4]\n",
    "pool_sizes   = [ 8,  3,   3,   4]\n",
    "strides      = [ 3,  3,   3,   2]\n",
    "pool_strides = [ 8,  2,   4,   2]\n",
    "num_filters  = [32, 64, 128,   6]\n",
    "\n",
    "NUM_LAYERS = len(kernel_sizes)\n",
    "\n",
    "\n",
    "INITIAL_AUDIO_NUM_FRAMES = 238000 # --> 8 kHz\n",
    "compr_out_size = INITIAL_AUDIO_NUM_FRAMES\n",
    "\n",
    "channels_in = 1\n",
    "\n",
    "tot_num_params = 0\n",
    "\n",
    "for compr_id, kernel_size, stride, pool_size, pool_stride, channels_out in zip(\n",
    "  range(NUM_LAYERS), \n",
    "  kernel_sizes, strides, \n",
    "  pool_sizes, pool_strides,\n",
    "  num_filters\n",
    "):\n",
    "  \n",
    "  compr_out_size = calculate_output_length(\n",
    "    compr_out_size, kernel_size=kernel_size, stride=stride\n",
    "  )\n",
    "  \n",
    "  compr_out_size = calculate_pool_length(compr_out_size, pool_size, pool_stride)\n",
    "\n",
    "  num_params = calculate_num_params_conv_layer(\n",
    "    channels_in=channels_in, kernel_width=kernel_size, kernel_height=1, \n",
    "    channels_out=channels_out\n",
    "  )\n",
    "\n",
    "  channels_in = channels_out\n",
    "  \n",
    "  print(f\"compr_out_{compr_id}_out: {compr_out_size}, num_params: {num_params}\")\n",
    "\n",
    "  tot_num_params += num_params\n",
    "\n",
    "print(f\"\\n\\ntotal number of params: {tot_num_params}\")\n"
   ]
  },
  {
   "cell_type": "code",
   "execution_count": null,
   "metadata": {},
   "outputs": [],
   "source": []
  }
 ],
 "metadata": {
  "kernelspec": {
   "display_name": "Python 3.10.4 64-bit",
   "language": "python",
   "name": "python3"
  },
  "language_info": {
   "codemirror_mode": {
    "name": "ipython",
    "version": 3
   },
   "file_extension": ".py",
   "mimetype": "text/x-python",
   "name": "python",
   "nbconvert_exporter": "python",
   "pygments_lexer": "ipython3",
   "version": "3.10.4"
  },
  "orig_nbformat": 4,
  "vscode": {
   "interpreter": {
    "hash": "916dbcbb3f70747c44a77c7bcd40155683ae19c65e1c03b4aa3499c5328201f1"
   }
  }
 },
 "nbformat": 4,
 "nbformat_minor": 2
}
