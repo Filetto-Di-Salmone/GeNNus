{
 "cells": [
  {
   "cell_type": "code",
   "execution_count": 1,
   "metadata": {},
   "outputs": [],
   "source": [
    "def calculate_output_length(length_in, kernel_size, stride=1, padding=0, dilation=1):\n",
    "  return (\n",
    "    length_in + 2 * padding - dilation * (kernel_size - 1) - 1\n",
    "  ) // stride + 1"
   ]
  },
  {
   "cell_type": "code",
   "execution_count": 2,
   "metadata": {},
   "outputs": [],
   "source": [
    "def calculate_pool_length(w, f, s):\n",
    "  return math.floor( ( ( w - f ) / s ) + 1 )"
   ]
  },
  {
   "cell_type": "code",
   "execution_count": 3,
   "metadata": {},
   "outputs": [
    {
     "ename": "NameError",
     "evalue": "name 'math' is not defined",
     "output_type": "error",
     "traceback": [
      "\u001b[0;31m---------------------------------------------------------------------------\u001b[0m",
      "\u001b[0;31mNameError\u001b[0m                                 Traceback (most recent call last)",
      "\u001b[1;32m/home/dansolombrino/GitHub/FDS/GeNNus/pre_processing/layer_sizes_calculations.ipynb Cell 3\u001b[0m in \u001b[0;36m<cell line: 12>\u001b[0;34m()\u001b[0m\n\u001b[1;32m     <a href='vscode-notebook-cell:/home/dansolombrino/GitHub/FDS/GeNNus/pre_processing/layer_sizes_calculations.ipynb#W1sZmlsZQ%3D%3D?line=11'>12</a>\u001b[0m \u001b[39mfor\u001b[39;00m compr_id, kernel_size, stride, pool_size, pool_stride \u001b[39min\u001b[39;00m \u001b[39mzip\u001b[39m(\n\u001b[1;32m     <a href='vscode-notebook-cell:/home/dansolombrino/GitHub/FDS/GeNNus/pre_processing/layer_sizes_calculations.ipynb#W1sZmlsZQ%3D%3D?line=12'>13</a>\u001b[0m   \u001b[39mrange\u001b[39m(NUM_COMPRESSION_LAYERS), \n\u001b[1;32m     <a href='vscode-notebook-cell:/home/dansolombrino/GitHub/FDS/GeNNus/pre_processing/layer_sizes_calculations.ipynb#W1sZmlsZQ%3D%3D?line=13'>14</a>\u001b[0m   KERNEL_SIZES, STRIDES, \n\u001b[1;32m     <a href='vscode-notebook-cell:/home/dansolombrino/GitHub/FDS/GeNNus/pre_processing/layer_sizes_calculations.ipynb#W1sZmlsZQ%3D%3D?line=14'>15</a>\u001b[0m   POOL_SIZES, POOL_STRIDES\n\u001b[1;32m     <a href='vscode-notebook-cell:/home/dansolombrino/GitHub/FDS/GeNNus/pre_processing/layer_sizes_calculations.ipynb#W1sZmlsZQ%3D%3D?line=15'>16</a>\u001b[0m ):\n\u001b[1;32m     <a href='vscode-notebook-cell:/home/dansolombrino/GitHub/FDS/GeNNus/pre_processing/layer_sizes_calculations.ipynb#W1sZmlsZQ%3D%3D?line=17'>18</a>\u001b[0m   compr_out_size \u001b[39m=\u001b[39m calculate_output_length(\n\u001b[1;32m     <a href='vscode-notebook-cell:/home/dansolombrino/GitHub/FDS/GeNNus/pre_processing/layer_sizes_calculations.ipynb#W1sZmlsZQ%3D%3D?line=18'>19</a>\u001b[0m     compr_out_size, kernel_size\u001b[39m=\u001b[39mkernel_size, stride\u001b[39m=\u001b[39mstride\n\u001b[1;32m     <a href='vscode-notebook-cell:/home/dansolombrino/GitHub/FDS/GeNNus/pre_processing/layer_sizes_calculations.ipynb#W1sZmlsZQ%3D%3D?line=19'>20</a>\u001b[0m   )\n\u001b[0;32m---> <a href='vscode-notebook-cell:/home/dansolombrino/GitHub/FDS/GeNNus/pre_processing/layer_sizes_calculations.ipynb#W1sZmlsZQ%3D%3D?line=21'>22</a>\u001b[0m   compr_out_size \u001b[39m=\u001b[39m calculate_pool_length(compr_out_size, pool_size, pool_stride)\n\u001b[1;32m     <a href='vscode-notebook-cell:/home/dansolombrino/GitHub/FDS/GeNNus/pre_processing/layer_sizes_calculations.ipynb#W1sZmlsZQ%3D%3D?line=23'>24</a>\u001b[0m   \u001b[39mprint\u001b[39m(\u001b[39mf\u001b[39m\u001b[39m\"\u001b[39m\u001b[39mcompr_out_\u001b[39m\u001b[39m{\u001b[39;00mcompr_id\u001b[39m}\u001b[39;00m\u001b[39m_out: \u001b[39m\u001b[39m{\u001b[39;00mcompr_out_size\u001b[39m}\u001b[39;00m\u001b[39m\"\u001b[39m)\n",
      "\u001b[1;32m/home/dansolombrino/GitHub/FDS/GeNNus/pre_processing/layer_sizes_calculations.ipynb Cell 3\u001b[0m in \u001b[0;36mcalculate_pool_length\u001b[0;34m(w, f, s)\u001b[0m\n\u001b[1;32m      <a href='vscode-notebook-cell:/home/dansolombrino/GitHub/FDS/GeNNus/pre_processing/layer_sizes_calculations.ipynb#W1sZmlsZQ%3D%3D?line=0'>1</a>\u001b[0m \u001b[39mdef\u001b[39;00m \u001b[39mcalculate_pool_length\u001b[39m(w, f, s):\n\u001b[0;32m----> <a href='vscode-notebook-cell:/home/dansolombrino/GitHub/FDS/GeNNus/pre_processing/layer_sizes_calculations.ipynb#W1sZmlsZQ%3D%3D?line=1'>2</a>\u001b[0m   \u001b[39mreturn\u001b[39;00m math\u001b[39m.\u001b[39mfloor( ( ( w \u001b[39m-\u001b[39m f ) \u001b[39m/\u001b[39m s ) \u001b[39m+\u001b[39m \u001b[39m1\u001b[39m )\n",
      "\u001b[0;31mNameError\u001b[0m: name 'math' is not defined"
     ]
    }
   ],
   "source": [
    "NUM_COMPRESSION_LAYERS = 4\n",
    "\n",
    "KERNEL_SIZES = [3, 3, 3, 3]\n",
    "POOL_SIZES   = [3, 3, 3, 3]\n",
    "\n",
    "STRIDES      = [3, 3, 2, 2]\n",
    "POOL_STRIDES = [2, 1, 1, 1]\n",
    "\n",
    "INITIAL_AUDIO_NUM_FRAMES = 238000 * 6 # --> 44 kHz\n",
    "compr_out_size = INITIAL_AUDIO_NUM_FRAMES\n",
    "\n",
    "for compr_id, kernel_size, stride, pool_size, pool_stride in zip(\n",
    "  range(NUM_COMPRESSION_LAYERS), \n",
    "  KERNEL_SIZES, STRIDES, \n",
    "  POOL_SIZES, POOL_STRIDES\n",
    "):\n",
    "  \n",
    "  compr_out_size = calculate_output_length(\n",
    "    compr_out_size, kernel_size=kernel_size, stride=stride\n",
    "  )\n",
    "  \n",
    "  compr_out_size = calculate_pool_length(compr_out_size, pool_size, pool_stride)\n",
    "  \n",
    "  print(f\"compr_out_{compr_id}_out: {compr_out_size}\")\n"
   ]
  },
  {
   "cell_type": "code",
   "execution_count": null,
   "metadata": {},
   "outputs": [],
   "source": [
    "# BEGIN 8 kHz v1\n",
    "\n",
    "INITIAL_AUDIO_NUM_FRAMES = 238000 # --> 8 kHz\n",
    "\n",
    "KERNEL_SIZES = [3, 3, 3]\n",
    "POOL_SIZES   = [3, 3, 3]\n",
    "\n",
    "STRIDES      = [3, 2, 1]\n",
    "POOL_STRIDES = [1, 1, 2]\n",
    "\n",
    "NUM_FILTERS  = [ 8, 16, 32]\n",
    "\n",
    "# END 8 kHz v1\n",
    "\n",
    "## BEGIN 8 kHz v2\n",
    "\n",
    "INITIAL_AUDIO_NUM_FRAMES = 238000 # --> 8 kHz\n",
    "\n",
    "NUM_COMPRESSION_LAYERS = 2\n",
    "\n",
    "KERNEL_SIZES = [3, 3]\n",
    "POOL_SIZES   = [3, 3]\n",
    "\n",
    "STRIDES      = [3, 2]\n",
    "POOL_STRIDES = [2, 1]\n",
    "\n",
    "NUM_FILTERS  = [ 8, 16]\n",
    "\n",
    "## END 8 kHz v2\n",
    "\n",
    "# BEGIN 16 kHz\n",
    "\n",
    "INITIAL_AUDIO_NUM_FRAMES = 238000 * 2 # --> 16 kHz\n",
    "\n",
    "NUM_COMPRESSION_LAYERS = 4\n",
    "\n",
    "KERNEL_SIZES = [3, 3, 3, 3]\n",
    "POOL_SIZES   = [3, 3, 3, 3]\n",
    "\n",
    "STRIDES      = [3, 2, 2, 2]\n",
    "POOL_STRIDES = [1, 1, 1, 1]\n",
    "\n",
    "NUM_FILTERS = [8, 16, 32, 64]\n",
    "\n",
    "# END 16 kHz\n",
    "\n",
    "# BEGIN 44 kHz\n",
    "\n",
    "INITIAL_AUDIO_NUM_FRAMES = 238000 * 6 # --> 44 kHz\n",
    "\n",
    "NUM_COMPRESSION_LAYERS = 4\n",
    "\n",
    "KERNEL_SIZES = [3, 3, 3, 3]\n",
    "POOL_SIZES   = [3, 3, 3, 3]\n",
    "\n",
    "STRIDES      = [3, 3, 2, 2]\n",
    "POOL_STRIDES = [2, 1, 1, 1]\n",
    "\n",
    "NUM_FILTERS = [8, 16, 32, 64, 64]\n",
    "\n",
    "# END 44 kHz"
   ]
  },
  {
   "cell_type": "code",
   "execution_count": null,
   "metadata": {},
   "outputs": [],
   "source": []
  }
 ],
 "metadata": {
  "kernelspec": {
   "display_name": "Python 3.10.4 64-bit",
   "language": "python",
   "name": "python3"
  },
  "language_info": {
   "codemirror_mode": {
    "name": "ipython",
    "version": 3
   },
   "file_extension": ".py",
   "mimetype": "text/x-python",
   "name": "python",
   "nbconvert_exporter": "python",
   "pygments_lexer": "ipython3",
   "version": "3.10.4"
  },
  "orig_nbformat": 4,
  "vscode": {
   "interpreter": {
    "hash": "916dbcbb3f70747c44a77c7bcd40155683ae19c65e1c03b4aa3499c5328201f1"
   }
  }
 },
 "nbformat": 4,
 "nbformat_minor": 2
}
