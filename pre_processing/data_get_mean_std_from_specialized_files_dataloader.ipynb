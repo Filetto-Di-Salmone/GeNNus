{
 "cells": [
  {
   "cell_type": "code",
   "execution_count": 1,
   "metadata": {},
   "outputs": [],
   "source": [
    "import torch\n",
    "from torch.utils.data import Dataset\n",
    "\n",
    "import torchaudio\n",
    "import torchaudio.transforms\n",
    "\n",
    "import sys, os\n",
    "\n",
    "from pprint import pprint\n",
    "\n",
    "from tqdm.autonotebook import tqdm\n",
    "\n",
    "import json\n",
    "\n",
    "import numpy as np\n",
    "\n",
    "import matplotlib.pylab as plt\n",
    "import seaborn as sns\n",
    "\n",
    "import librosa\n",
    "import librosa.display\n",
    "\n",
    "import pandas as pd\n",
    "\n",
    "from pathlib import Path\n",
    "\n",
    "import gc\n",
    "\n",
    "MANUAL_SEED = 69\n",
    "\n",
    "import torch.nn as nn\n",
    "import torch.nn.functional as F\n",
    "\n",
    "import torch.optim as optim\n",
    "\n",
    "from datetime import date\n",
    "from datetime import datetime\n",
    "\n",
    "import os.path\n",
    "from os import path\n",
    "  \n",
    "import json\n",
    "\n",
    "import time\n",
    "\n",
    "import copy\n",
    "\n",
    "from matplotlib import pyplot as plt\n",
    "plt.rcParams['figure.dpi'] = 150\n",
    "plt.rcParams['savefig.dpi'] = 150\n",
    "\n",
    "from sklearn.decomposition import PCA\n",
    "\n"
   ]
  },
  {
   "cell_type": "code",
   "execution_count": 2,
   "metadata": {},
   "outputs": [],
   "source": [
    "def make_dir_if_absent(dir_path):\n",
    "  \n",
    "  # print(\"making dir: \", dir_path)\n",
    "  \n",
    "  if not os.path.exists(dir_path):\n",
    "    os.makedirs(dir_path)\n",
    "    "
   ]
  },
  {
   "cell_type": "code",
   "execution_count": 3,
   "metadata": {},
   "outputs": [],
   "source": [
    "class FMADataset(Dataset):\n",
    "\n",
    "  def __init__(\n",
    "    self, path_waveform, path_mel_spectrogram\n",
    "  ):\n",
    "    self.path_waveform = path_waveform\n",
    "    self.path_mel_spectrogram = path_mel_spectrogram\n",
    "    \n",
    "    self.data_paths_waveform = self._load_audio_list(self.path_waveform)\n",
    "    self.data_paths_mel_spectrogram = self._load_audio_list(self.path_mel_spectrogram)\n",
    "\n",
    "  def __len__(self):\n",
    "    return len(self.data_paths_waveform)\n",
    "\n",
    "  def __getitem__(self, idx):\n",
    "    \n",
    "    data_waveform = torch.load(self.data_paths_waveform[idx])\n",
    "    data_mel_spectrogram = torch.load(self.data_paths_mel_spectrogram[idx])\n",
    "\n",
    "    return data_mel_spectrogram, data_waveform\n",
    "    \n",
    "  def _load_audio_list(self, waveform_or_mel_spec_path):\n",
    "    \n",
    "    audio_path_list = []\n",
    "    \n",
    "    for path, subdirs, files in tqdm(\n",
    "      os.walk(waveform_or_mel_spec_path), colour=\"magenta\"\n",
    "    ):\n",
    "      for name in files:\n",
    "          \n",
    "        file_audio_path = os.path.join(path, name)\n",
    "        \n",
    "        audio_path_list.append(file_audio_path)\n",
    "        \n",
    "    return audio_path_list\n",
    "        \n",
    "        "
   ]
  },
  {
   "cell_type": "code",
   "execution_count": 4,
   "metadata": {},
   "outputs": [],
   "source": [
    "DATASET_SIZE = \"l\"\n",
    "DATASET_FOLDER_WAVEFORM = f\"../data/waveform\"\n",
    "DATASET_FOLDER_MEL_SPECTROGRAM = f\"../data/mel_spectrogram\"\n",
    "\n",
    "DATASET_NUM_SAMPLES_PER_SECOND = 8000\n",
    "DATASET_NUM_CHANNELS = 1\n",
    "\n",
    "DATASET_NAME = f\"fma_{DATASET_SIZE}_resampled_{DATASET_NUM_SAMPLES_PER_SECOND}_rechanneled_{DATASET_NUM_CHANNELS}\"\n",
    "\n",
    "DATASET_NAME_WAVEFORM = DATASET_NAME\n",
    "\n",
    "MEL_SPECTROGRAM_N_FFT = 1024\n",
    "MEL_SPECTROGRAM_WIN_LENGTH = None\n",
    "MEL_SPECTROGRAM_HOP_LENGTH = 128\n",
    "MEL_SPECTROGRAM_N_MELS =  128\n",
    "DATASET_NAME_MEL_SPECTROGRAM = f\"fma_{DATASET_SIZE}_resampled_{DATASET_NUM_SAMPLES_PER_SECOND}_rechanneled_{DATASET_NUM_CHANNELS}_n_fft_{MEL_SPECTROGRAM_N_FFT}_win_length_{MEL_SPECTROGRAM_WIN_LENGTH}_hop_length_{MEL_SPECTROGRAM_HOP_LENGTH}_n_mels_{MEL_SPECTROGRAM_N_MELS}\"\n",
    "\n",
    "dataset_path_waveform = f\"{DATASET_FOLDER_WAVEFORM}/{DATASET_NAME_WAVEFORM}\"\n",
    "dataset_path_mel_spectrogram = f\"{DATASET_FOLDER_MEL_SPECTROGRAM}/{DATASET_NAME_MEL_SPECTROGRAM}\"\n",
    "\n",
    "TRAINING_LOGS_FOLDER = \"./logs\"\n",
    "\n"
   ]
  },
  {
   "cell_type": "code",
   "execution_count": 5,
   "metadata": {},
   "outputs": [
    {
     "data": {
      "application/vnd.jupyter.widget-view+json": {
       "model_id": "ced85b9e661d411ba2022b16d68328da",
       "version_major": 2,
       "version_minor": 0
      },
      "text/plain": [
       "0it [00:00, ?it/s]"
      ]
     },
     "metadata": {},
     "output_type": "display_data"
    },
    {
     "data": {
      "application/vnd.jupyter.widget-view+json": {
       "model_id": "af6a25e09bc34e8581b8236d170022eb",
       "version_major": 2,
       "version_minor": 0
      },
      "text/plain": [
       "0it [00:00, ?it/s]"
      ]
     },
     "metadata": {},
     "output_type": "display_data"
    }
   ],
   "source": [
    "fma_dataset = FMADataset(\n",
    "  path_waveform=dataset_path_waveform, \n",
    "  path_mel_spectrogram=dataset_path_mel_spectrogram\n",
    ")"
   ]
  },
  {
   "cell_type": "code",
   "execution_count": 6,
   "metadata": {},
   "outputs": [],
   "source": [
    "def get_mean_std(loader):\n",
    "    # var[X] = E[X**2] - E[X]**2\n",
    "    channels_sum, channels_sqrd_sum, num_batches = 0, 0, 0\n",
    "\n",
    "    for data, _ in tqdm(loader, colour=\"#32CD32\"):\n",
    "        channels_sum += torch.mean(data, dim=[0, 2, 3])\n",
    "        channels_sqrd_sum += torch.mean(data ** 2, dim=[0, 2, 3])\n",
    "        num_batches += 1\n",
    "\n",
    "    mean = channels_sum / num_batches\n",
    "    std = (channels_sqrd_sum / num_batches - mean ** 2) ** 0.5\n",
    "\n",
    "    return mean, std"
   ]
  },
  {
   "cell_type": "code",
   "execution_count": 7,
   "metadata": {},
   "outputs": [],
   "source": [
    "TRAIN_VAL_PERCENTAGE = 0.9\n",
    "\n",
    "full_size = len(fma_dataset)\n",
    "train_val_size = int(TRAIN_VAL_PERCENTAGE * full_size)\n",
    "test_size = full_size - train_val_size"
   ]
  },
  {
   "cell_type": "code",
   "execution_count": 8,
   "metadata": {},
   "outputs": [],
   "source": [
    "generator=torch.Generator().manual_seed(MANUAL_SEED)\n",
    "\n",
    "fma_dataset_train_val, fma_dataset_test = torch.utils.data.random_split(\n",
    "  fma_dataset, [train_val_size, test_size], generator\n",
    ")"
   ]
  },
  {
   "cell_type": "code",
   "execution_count": 9,
   "metadata": {},
   "outputs": [],
   "source": [
    "TRAIN_PERCENTAGE = 0.8\n",
    "\n",
    "full_size = train_val_size\n",
    "train_size = int(TRAIN_PERCENTAGE * full_size)\n",
    "val_size = full_size - train_size"
   ]
  },
  {
   "cell_type": "code",
   "execution_count": 10,
   "metadata": {},
   "outputs": [],
   "source": [
    "fma_dataset_train, fma_dataset_val = torch.utils.data.random_split(\n",
    "  fma_dataset_train_val, [train_size, val_size], generator\n",
    ")"
   ]
  },
  {
   "cell_type": "code",
   "execution_count": 11,
   "metadata": {},
   "outputs": [],
   "source": [
    "train_loader = torch.utils.data.DataLoader(\n",
    "  num_workers=16, batch_size=16, dataset=fma_dataset_train\n",
    ")"
   ]
  },
  {
   "cell_type": "code",
   "execution_count": 12,
   "metadata": {},
   "outputs": [
    {
     "data": {
      "application/vnd.jupyter.widget-view+json": {
       "model_id": "4c4febaa9252433795063e281ecd1a86",
       "version_major": 2,
       "version_minor": 0
      },
      "text/plain": [
       "  0%|          | 0/513 [00:00<?, ?it/s]"
      ]
     },
     "metadata": {},
     "output_type": "display_data"
    },
    {
     "name": "stdout",
     "output_type": "stream",
     "text": [
      "tensor([9.8503])\n",
      "tensor([295.3500])\n"
     ]
    }
   ],
   "source": [
    "mean, std = get_mean_std(train_loader)\n",
    "print(mean)\n",
    "print(std)"
   ]
  },
  {
   "cell_type": "code",
   "execution_count": 13,
   "metadata": {},
   "outputs": [],
   "source": [
    "to_export = {\n",
    "  \"dataset_name\": DATASET_NAME,\n",
    "  \"waveform_mean\": mean.item(),\n",
    "  \"waveform_std\": std.item(),\n",
    "  \"mel_spectrogram_mean\": 9.8503,\n",
    "  \"mel_spectrogram_std\": 295.3500\n",
    "}"
   ]
  },
  {
   "cell_type": "code",
   "execution_count": 14,
   "metadata": {},
   "outputs": [],
   "source": [
    "SUMMARY_STATISTICS_FOLDER = \"../data/summary_statistics\"\n",
    "\n",
    "SUMMARY_STATISTICS_NAME = DATASET_NAME\n",
    "\n",
    "summary_statistics_path = f\"{SUMMARY_STATISTICS_FOLDER}/{SUMMARY_STATISTICS_NAME}/{SUMMARY_STATISTICS_NAME}_summary_statistics.json\"\n",
    "\n"
   ]
  },
  {
   "cell_type": "code",
   "execution_count": 15,
   "metadata": {},
   "outputs": [],
   "source": [
    "make_dir_if_absent(\n",
    "  dir_path=f\"{SUMMARY_STATISTICS_FOLDER}/{SUMMARY_STATISTICS_NAME}\"\n",
    ")"
   ]
  },
  {
   "cell_type": "code",
   "execution_count": 16,
   "metadata": {},
   "outputs": [],
   "source": [
    "with open(summary_statistics_path, 'w') as fp:\n",
    "  json.dump(to_export, fp)"
   ]
  },
  {
   "cell_type": "code",
   "execution_count": 17,
   "metadata": {},
   "outputs": [
    {
     "data": {
      "text/plain": [
       "{'dataset_name': 'fma_l_resampled_8000_rechanneled_1',\n",
       " 'waveform_mean': 9.85030460357666,\n",
       " 'waveform_std': 295.3499755859375,\n",
       " 'mel_spectrogram_mean': 9.8503,\n",
       " 'mel_spectrogram_std': 295.35}"
      ]
     },
     "execution_count": 17,
     "metadata": {},
     "output_type": "execute_result"
    }
   ],
   "source": [
    "to_export"
   ]
  }
 ],
 "metadata": {
  "kernelspec": {
   "display_name": "Python 3.10.4 64-bit",
   "language": "python",
   "name": "python3"
  },
  "language_info": {
   "codemirror_mode": {
    "name": "ipython",
    "version": 3
   },
   "file_extension": ".py",
   "mimetype": "text/x-python",
   "name": "python",
   "nbconvert_exporter": "python",
   "pygments_lexer": "ipython3",
   "version": "3.10.4"
  },
  "orig_nbformat": 4,
  "vscode": {
   "interpreter": {
    "hash": "916dbcbb3f70747c44a77c7bcd40155683ae19c65e1c03b4aa3499c5328201f1"
   }
  }
 },
 "nbformat": 4,
 "nbformat_minor": 2
}
