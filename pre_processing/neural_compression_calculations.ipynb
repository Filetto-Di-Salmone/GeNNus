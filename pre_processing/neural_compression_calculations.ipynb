{
 "cells": [
  {
   "cell_type": "code",
   "execution_count": 1,
   "metadata": {},
   "outputs": [],
   "source": [
    "def calculate_output_length(length_in, kernel_size, stride=1, padding=0, dilation=1):\n",
    "  return (\n",
    "    length_in + 2 * padding - dilation * (kernel_size - 1) - 1\n",
    "  ) // stride + 1"
   ]
  },
  {
   "cell_type": "code",
   "execution_count": 7,
   "metadata": {},
   "outputs": [
    {
     "name": "stdout",
     "output_type": "stream",
     "text": [
      "compr_out_0_out: 59500\n",
      "compr_out_1_out: 19833\n"
     ]
    }
   ],
   "source": [
    "NUM_COMPRESSION_LAYERS = 2\n",
    "KERNEL_SIZES = [3, 3]\n",
    "STRIDES      = [4, 3]\n",
    "\n",
    "INITIAL_AUDIO_NUM_FRAMES = 238000 # --> 8 kHz\n",
    "compr_out_size = INITIAL_AUDIO_NUM_FRAMES\n",
    "\n",
    "for compr_id, kernel_size, stride in zip(\n",
    "  range(NUM_COMPRESSION_LAYERS), KERNEL_SIZES, STRIDES\n",
    "):\n",
    "  \n",
    "  compr_out_size = calculate_output_length(\n",
    "    compr_out_size, kernel_size=kernel_size, stride=stride\n",
    "  )\n",
    "  \n",
    "  print(f\"compr_out_{compr_id}_out: {compr_out_size}\")\n"
   ]
  },
  {
   "cell_type": "code",
   "execution_count": 8,
   "metadata": {},
   "outputs": [],
   "source": [
    "# BEGIN 8 kHz v1\n",
    "\n",
    "INITIAL_AUDIO_NUM_FRAMES = 238000 # --> 8 kHz\n",
    "\n",
    "NUM_COMPRESSION_LAYERS = 3\n",
    "KERNEL_SIZES = [ 3,  3,  3]\n",
    "NUM_FILTERS  = [ 8, 16, 32]\n",
    "STRIDES      = [ 3,  2,  2]\n",
    "\n",
    "# END 8 kHz v1\n",
    "\n",
    "## BEGIN 8 kHz v2\n",
    "\n",
    "INITIAL_AUDIO_NUM_FRAMES = 238000 # --> 8 kHz\n",
    "\n",
    "NUM_COMPRESSION_LAYERS = 2\n",
    "KERNEL_SIZES = [ 3,  3]\n",
    "NUM_FILTERS  = [ 8, 16]\n",
    "STRIDES      = [ 4,  3]\n",
    "\n",
    "## END 8 kHz v2\n",
    "\n",
    "# BEGIN 16 kHz\n",
    "\n",
    "INITIAL_AUDIO_NUM_FRAMES = 238000 * 2 # --> 16 kHz\n",
    "\n",
    "NUM_COMPRESSION_LAYERS = 4\n",
    "KERNEL_SIZES = [3, 3, 3, 3]\n",
    "NUM_FILTERS = [8, 16, 32, 64]\n",
    "STRIDES = [3, 2, 2, 2]\n",
    "\n",
    "# END 16 kHz\n",
    "\n",
    "# BEGIN 44 kHz\n",
    "\n",
    "INITIAL_AUDIO_NUM_FRAMES = 1480000 # --> 44 kHz\n",
    "\n",
    "NUM_COMPRESSION_LAYERS = 5\n",
    "KERNEL_SIZES = [3, 3, 3, 3, 3]\n",
    "NUM_FILTERS = [8, 16, 32, 64, 64]\n",
    "STRIDES      = [3, 3, 2, 2, 2]\n",
    "\n",
    "# END 44 kHz"
   ]
  },
  {
   "cell_type": "code",
   "execution_count": null,
   "metadata": {},
   "outputs": [],
   "source": []
  }
 ],
 "metadata": {
  "kernelspec": {
   "display_name": "Python 3.10.4 64-bit",
   "language": "python",
   "name": "python3"
  },
  "language_info": {
   "codemirror_mode": {
    "name": "ipython",
    "version": 3
   },
   "file_extension": ".py",
   "mimetype": "text/x-python",
   "name": "python",
   "nbconvert_exporter": "python",
   "pygments_lexer": "ipython3",
   "version": "3.10.4"
  },
  "orig_nbformat": 4,
  "vscode": {
   "interpreter": {
    "hash": "916dbcbb3f70747c44a77c7bcd40155683ae19c65e1c03b4aa3499c5328201f1"
   }
  }
 },
 "nbformat": 4,
 "nbformat_minor": 2
}
