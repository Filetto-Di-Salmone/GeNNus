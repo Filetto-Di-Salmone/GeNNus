{
 "cells": [
  {
   "cell_type": "code",
   "execution_count": 1,
   "metadata": {},
   "outputs": [],
   "source": [
    "import torch\n",
    "from torch.utils.data import Dataset\n",
    "\n",
    "import torchaudio\n",
    "import torchaudio.transforms\n",
    "\n",
    "import sys, os\n",
    "\n",
    "from pprint import pprint\n",
    "\n",
    "from tqdm.autonotebook import tqdm\n",
    "\n",
    "import json\n",
    "\n",
    "import numpy as np\n",
    "\n",
    "import matplotlib.pylab as plt\n",
    "import seaborn as sns\n",
    "\n",
    "import librosa\n",
    "import librosa.display\n",
    "\n",
    "import pandas as pd\n",
    "\n",
    "from pathlib import Path\n",
    "\n",
    "import gc\n",
    "\n",
    "MANUAL_SEED = 69\n",
    "\n",
    "import torch.nn as nn\n",
    "import torch.nn.functional as F\n",
    "\n",
    "import torch.optim as optim\n",
    "\n",
    "from datetime import date\n",
    "from datetime import datetime\n",
    "\n",
    "import os.path\n",
    "from os import path\n",
    "  \n",
    "import json\n",
    "\n",
    "import time\n",
    "\n",
    "import copy\n",
    "\n",
    "from matplotlib import pyplot as plt\n",
    "plt.rcParams['figure.dpi'] = 150\n",
    "plt.rcParams['savefig.dpi'] = 150\n",
    "\n",
    "from sklearn.decomposition import PCA\n",
    "\n"
   ]
  },
  {
   "cell_type": "code",
   "execution_count": 2,
   "metadata": {},
   "outputs": [],
   "source": [
    "def make_dir_if_absent(dir_path):\n",
    "  \n",
    "  # print(\"making dir: \", dir_path)\n",
    "  \n",
    "  if not os.path.exists(dir_path):\n",
    "    os.makedirs(dir_path)\n",
    "    "
   ]
  },
  {
   "cell_type": "code",
   "execution_count": 3,
   "metadata": {},
   "outputs": [],
   "source": [
    "class FMADataset(Dataset):\n",
    "\n",
    "  def __init__(\n",
    "    self, path_waveform, path_mel_spectrogram\n",
    "  ):\n",
    "    self.path_waveform = path_waveform\n",
    "    self.path_mel_spectrogram = path_mel_spectrogram\n",
    "    \n",
    "    self.data_paths_waveform = self._load_audio_list(self.path_waveform)\n",
    "    self.data_paths_mel_spectrogram = self._load_audio_list(self.path_mel_spectrogram)\n",
    "\n",
    "  def __len__(self):\n",
    "    return len(self.data_paths)\n",
    "\n",
    "  def __getitem__(self, idx):\n",
    "    \n",
    "    data_waveform = torch.load(self.data_paths_waveform[idx])\n",
    "    data_mel_spectrogram = torch.load(self.data_paths_mel_spectrogram[idx])\n",
    "\n",
    "    return data_waveform, data_mel_spectrogram\n",
    "    \n",
    "  def _load_audio_list(self, waveform_or_mel_spec_path):\n",
    "    \n",
    "    audio_path_list = []\n",
    "    \n",
    "    for path, subdirs, files in tqdm(\n",
    "      os.walk(waveform_or_mel_spec_path), colour=\"magenta\"\n",
    "    ):\n",
    "      for name in files:\n",
    "          \n",
    "        file_audio_path = os.path.join(path, name)\n",
    "        \n",
    "        audio_path_list.append(file_audio_path)\n",
    "        \n",
    "    return audio_path_list\n",
    "        \n",
    "        "
   ]
  },
  {
   "cell_type": "code",
   "execution_count": 4,
   "metadata": {},
   "outputs": [],
   "source": [
    "DATASET_SIZE = \"s\"\n",
    "DATASET_FOLDER_WAVEFORM = f\"../data/waveform\"\n",
    "DATASET_FOLDER_MEL_SPECTROGRAM = f\"../data/mel_spectrogram\"\n",
    "\n",
    "DATASET_NUM_SAMPLES_PER_SECOND = 22050\n",
    "DATASET_NUM_CHANNELS = 1\n",
    "\n",
    "DATASET_NAME = f\"fma_{DATASET_SIZE}_resampled_{DATASET_NUM_SAMPLES_PER_SECOND}_rechanneled_{DATASET_NUM_CHANNELS}\"\n",
    "\n",
    "DATASET_NAME_WAVEFORM = DATASET_NAME\n",
    "\n",
    "MEL_SPECTROGRAM_N_FFT = 1024\n",
    "MEL_SPECTROGRAM_WIN_LENGTH = None\n",
    "MEL_SPECTROGRAM_HOP_LENGTH = 128\n",
    "MEL_SPECTROGRAM_N_MELS =  128\n",
    "DATASET_NAME_MEL_SPECTROGRAM = f\"fma_{DATASET_SIZE}_resampled_{DATASET_NUM_SAMPLES_PER_SECOND}_rechanneled_{DATASET_NUM_CHANNELS}_n_fft_{MEL_SPECTROGRAM_N_FFT}_win_length_{MEL_SPECTROGRAM_WIN_LENGTH}_hop_length_{MEL_SPECTROGRAM_HOP_LENGTH}_n_mels_{MEL_SPECTROGRAM_N_MELS}\"\n",
    "\n",
    "dataset_path_waveform = f\"{DATASET_FOLDER_WAVEFORM}/{DATASET_NAME_WAVEFORM}\"\n",
    "dataset_path_mel_spectrogram = f\"{DATASET_FOLDER_MEL_SPECTROGRAM}/{DATASET_NAME_MEL_SPECTROGRAM}\"\n",
    "\n",
    "TRAINING_LOGS_FOLDER = \"./logs\"\n",
    "\n"
   ]
  },
  {
   "cell_type": "code",
   "execution_count": 5,
   "metadata": {},
   "outputs": [
    {
     "data": {
      "application/vnd.jupyter.widget-view+json": {
       "model_id": "f3864a7bcf2e4732af7960d76160aa00",
       "version_major": 2,
       "version_minor": 0
      },
      "text/plain": [
       "0it [00:00, ?it/s]"
      ]
     },
     "metadata": {},
     "output_type": "display_data"
    },
    {
     "data": {
      "application/vnd.jupyter.widget-view+json": {
       "model_id": "e45a658f91cc4ecbbf2c0b9638e05963",
       "version_major": 2,
       "version_minor": 0
      },
      "text/plain": [
       "0it [00:00, ?it/s]"
      ]
     },
     "metadata": {},
     "output_type": "display_data"
    }
   ],
   "source": [
    "fma_dataset = FMADataset(\n",
    "  path_waveform=dataset_path_waveform, \n",
    "  path_mel_spectrogram=dataset_path_mel_spectrogram\n",
    ")"
   ]
  },
  {
   "cell_type": "code",
   "execution_count": 6,
   "metadata": {},
   "outputs": [],
   "source": [
    "list_waveforms = []\n",
    "list_mel_spectrograms = []"
   ]
  },
  {
   "cell_type": "code",
   "execution_count": 7,
   "metadata": {},
   "outputs": [
    {
     "data": {
      "application/vnd.jupyter.widget-view+json": {
       "model_id": "b3308ba9270f4267b3d95882e05c417c",
       "version_major": 2,
       "version_minor": 0
      },
      "text/plain": [
       "0it [00:00, ?it/s]"
      ]
     },
     "metadata": {},
     "output_type": "display_data"
    }
   ],
   "source": [
    "for waveform, mel_spectrogram in tqdm(fma_dataset, colour=\"#32a852\"):\n",
    "  # list_waveforms.append(waveform)\n",
    "  list_mel_spectrograms.append(mel_spectrogram)"
   ]
  },
  {
   "cell_type": "code",
   "execution_count": 8,
   "metadata": {},
   "outputs": [
    {
     "name": "stdout",
     "output_type": "stream",
     "text": [
      "torch.Size([3000, 128, 5157])\n"
     ]
    }
   ],
   "source": [
    "tensor_waveforms = torch.cat(list_waveforms)\n",
    "tensor_mel_spectrograms = torch.cat(list_mel_spectrograms)\n",
    "\n",
    "print(tensor_waveforms.shape)\n",
    "print(tensor_mel_spectrograms.shape)"
   ]
  },
  {
   "cell_type": "code",
   "execution_count": 9,
   "metadata": {},
   "outputs": [],
   "source": [
    "waveform_std, waveform_mean = torch.std_mean(tensor_waveforms)\n",
    "mel_spectrogram_std, mel_spectrogram_mean = torch.std_mean(\n",
    "  tensor_mel_spectrograms\n",
    ")"
   ]
  },
  {
   "cell_type": "code",
   "execution_count": 10,
   "metadata": {},
   "outputs": [],
   "source": [
    "to_export = {\n",
    "  \"dataset_name\": DATASET_NAME,\n",
    "  \"waveform_mean\": waveform_mean.item(),\n",
    "  \"waveform_std\": waveform_std.item(),\n",
    "  \"mel_spectrogram_mean\": mel_spectrogram_mean.item(),\n",
    "  \"mel_spectrogram_std\": mel_spectrogram_std.item()\n",
    "}"
   ]
  },
  {
   "cell_type": "code",
   "execution_count": 11,
   "metadata": {},
   "outputs": [],
   "source": [
    "SUMMARY_STATISTICS_FOLDER = \"../data/summary_statistics\"\n",
    "\n",
    "SUMMARY_STATISTICS_NAME = DATASET_NAME\n",
    "\n",
    "summary_statistics_path = f\"{SUMMARY_STATISTICS_FOLDER}/{SUMMARY_STATISTICS_NAME}/{SUMMARY_STATISTICS_NAME}_summary_statistics.json\"\n",
    "\n"
   ]
  },
  {
   "cell_type": "code",
   "execution_count": 12,
   "metadata": {},
   "outputs": [],
   "source": [
    "make_dir_if_absent(\n",
    "  dir_path=f\"{SUMMARY_STATISTICS_FOLDER}/{SUMMARY_STATISTICS_NAME}\"\n",
    ")"
   ]
  },
  {
   "cell_type": "code",
   "execution_count": 13,
   "metadata": {},
   "outputs": [],
   "source": [
    "with open(summary_statistics_path, 'w') as fp:\n",
    "  json.dump(to_export, fp)"
   ]
  },
  {
   "cell_type": "code",
   "execution_count": 14,
   "metadata": {},
   "outputs": [
    {
     "data": {
      "text/plain": [
       "{'dataset_name': 'fma_s_resampled_22050_rechanneled_1',\n",
       " 'waveform_mean': -0.00016133548342622817,\n",
       " 'waveform_std': 0.30404531955718994,\n",
       " 'mel_spectrogram_mean': 6.5207295417785645,\n",
       " 'mel_spectrogram_std': 59.876766204833984}"
      ]
     },
     "execution_count": 14,
     "metadata": {},
     "output_type": "execute_result"
    }
   ],
   "source": [
    "to_export"
   ]
  }
 ],
 "metadata": {
  "kernelspec": {
   "display_name": "Python 3.10.4 64-bit",
   "language": "python",
   "name": "python3"
  },
  "language_info": {
   "codemirror_mode": {
    "name": "ipython",
    "version": 3
   },
   "file_extension": ".py",
   "mimetype": "text/x-python",
   "name": "python",
   "nbconvert_exporter": "python",
   "pygments_lexer": "ipython3",
   "version": "3.10.4"
  },
  "orig_nbformat": 4,
  "vscode": {
   "interpreter": {
    "hash": "916dbcbb3f70747c44a77c7bcd40155683ae19c65e1c03b4aa3499c5328201f1"
   }
  }
 },
 "nbformat": 4,
 "nbformat_minor": 2
}
